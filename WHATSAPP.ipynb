{
 "cells": [
  {
   "cell_type": "code",
   "execution_count": 1,
   "id": "07d68972",
   "metadata": {},
   "outputs": [],
   "source": [
    "import pandas as pd\n",
    "import numpy as np\n",
    "import matplotlib.pyplot as p\n",
    "import seaborn as sb\n",
    "import regex as re"
   ]
  },
  {
   "cell_type": "code",
   "execution_count": 2,
   "id": "931c185c",
   "metadata": {},
   "outputs": [],
   "source": [
    "f=open(\"C:\\\\Users\\\\RAVI\\\\Downloads\\\\_chat\\\\_chat.txt\",encoding='utf-8')"
   ]
  },
  {
   "cell_type": "code",
   "execution_count": 3,
   "id": "e717978f",
   "metadata": {},
   "outputs": [],
   "source": [
    "data=f.read()"
   ]
  },
  {
   "cell_type": "code",
   "execution_count": 4,
   "id": "4afc26b0",
   "metadata": {},
   "outputs": [
    {
     "name": "stdout",
     "output_type": "stream",
     "text": [
      "<_io.TextIOWrapper name='C:\\\\Users\\\\RAVI\\\\Downloads\\\\_chat\\\\_chat.txt' mode='r' encoding='utf-8'>\n"
     ]
    }
   ],
   "source": [
    "print(f)"
   ]
  },
  {
   "cell_type": "code",
   "execution_count": 5,
   "id": "4c785733",
   "metadata": {},
   "outputs": [
    {
     "data": {
      "text/plain": [
       "'[18/04/24, 11:58:09\\u202fPM] Cricket @Dussehra/District🏏: \\u200eMessages and calls are end-to-end encrypted. No one outside of this chat, not even WhatsApp, can read or listen to them.\\n[18/04/24, 11:58:09\\u202fPM] Cricket @Dussehra/District🏏: \\u200e\\u200e\\u200eThe message timer was updated. \\u200eNew messages will disappear from this chat \\u200e24 hours after they\\'re sent, except when kept. \\u200eTap to change.\\n[25/04/24, 9:56:01\\u202fAM] Sachin: \\u200eSachin pinned a message\\n[05/05/24, 10:51:19\\u202fAM] Cricket @Dussehra/District🏏: \\u200eParvez added \\u202a+91\\xa076674\\xa069634\\u202c, \\u202a+91\\xa096108\\xa088856\\u202c, and \\u202a+91\\xa096825\\xa046130\\u202c\\n[05/05/24, 10:41:01\\u202fPM] Vijay Bro: \\u200eParvez added Vijay Bro\\n[07/05/24, 2:27:40\\u202fPM] ~\\u202fNeeraj Vohra: Guys.....Good IPO\\'s are on the list.....shud look at these for side income\\n[07/05/24, 2:28:17\\u202fPM] ~\\u202fNeeraj Vohra: I m expecting u all must be having Dmat Accounts\\n[07/05/24, 2:29:25\\u202fPM] ~\\u202fNeeraj Vohra: If not, then let me know, I\\'ll guide u\\n[07/05/24, 2:30:34\\u202fPM] ~\\u202fAshwin Rai: I\\'ve kuch kuch shares but not IPO\\'s 😅\\n[07/05/24, 2:39:07\\u202fPM] ~\\u202fNeeraj Vohra: Look for Ongoing SME n IPO without delay......decent opportunities we r having now ....\\n[07/05/24, 2:53:25\\u202fPM] Parvez: Arey bhaisaab hum log chote mote log hai 😅\\n[07/05/24, 2:57:08\\u202fPM] ~\\u202fNeeraj Vohra: Parvez miyan.....aap chote to nahi par mote jarur ho.....par pehle se fit lag rahe the kal to 😎\\n[07/05/24, 3:48:21\\u202fPM] Parvez: IPO\\'s bade log kheltey hai jinke paas andha paisa hota hai 😂,,,, market mein paisa lagana hum logo ke liye bewakoofi hai \\u200e<This message was edited>\\n[07/05/24, 3:49:18\\u202fPM] Parvez: By the way guide me 😃\\n[07/05/24, 3:49:34\\u202fPM] Parvez: No Dmat Accounts\\n[07/05/24, 3:54:19\\u202fPM] ~\\u202fNeeraj Vohra: Bhai IPO ke liye per account around 15,000 ki hi requirement hoti hai......which we can easily afford\\n[07/05/24, 3:54:41\\u202fPM] Parvez: Ok\\n[07/05/24, 3:55:39\\u202fPM] ~\\u202fNeeraj Vohra: 1st u need to open an Account with a trusted and established broker\\n[07/05/24, 3:57:46\\u202fPM] ~\\u202fNeeraj Vohra: I have my account in Stoxkart (of SMC) and in Zerodha\\n[07/05/24, 3:58:25\\u202fPM] Parvez: Hmm...\\n[07/05/24, 3:58:30\\u202fPM] Parvez: Will see..\\n[07/05/24, 3:58:42\\u202fPM] ~\\u202fNeeraj Vohra: https://signup.stoxkart.com/e-kyc/mobile?param1=N24BD00317\\n[07/05/24, 3:59:55\\u202fPM] ~\\u202fNeeraj Vohra: u can open ur Account in Stoxkart thru this signup link.......keep ur Pan Card and 6 months bank statement ready with u while doing so\\n[07/05/24, 9:30:01\\u202fPM] ~\\u202fAshwin Rai: https://www.instagram.com/reel/C6ps2eJiTix/?igsh=MWRiYTk0MGR4azhhYw==\\n[07/05/24, 11:10:04\\u202fPM] Satyam: yha to hmlogo me jab kabhi sabke worst umpiring hua hoga usme v ipl se to achha hi krte hai\\n[07/05/24, 11:10:28\\u202fPM] Satyam: technology ke baad v itna bakbaas umpiring krte hai ye log\\n[07/05/24, 11:11:32\\u202fPM] Amitabh: 3 grade umpiring kr rhe h\\nDubra check bhi nhi kiya\\n[07/05/24, 11:11:44\\u202fPM] Amitabh: Diffrent angles se\\n[07/05/24, 11:12:36\\u202fPM] Satyam: whi to but ye to sidha hi lg rha tha touch hua hai\\n[07/05/24, 11:13:44\\u202fPM] Amitabh: 2 bar touch hua h\\n[07/05/24, 11:14:08\\u202fPM] Satyam: ab jb touch hu uske baad ko bwst angle bol kr dekhega to baad me firse kha se sahi dikhega\\n[07/05/24, 11:14:11\\u202fPM] Ishu: Sab Paisa ki moh Maya hai\\n[07/05/24, 11:14:14\\u202fPM] Satyam: whi to\\n[07/05/24, 11:14:31\\u202fPM] Amitabh: Ek bar dekha bas itne close call mai\\n[07/05/24, 11:14:38\\u202fPM] Ishu: Even dobara check bhi nhi Kara\\n[07/05/24, 11:15:12\\u202fPM] Satyam: isliye to yha ke logo ko bahar umpires rakhte hi nhi hai, pagal hk gya hai ye sb\\n[07/05/24, 11:15:39\\u202fPM] Ishu: Shyd Jo 3rd umpire foreigner hai\\n[07/05/24, 11:15:49\\u202fPM] Amitabh: India ka naam dubta h\\n[07/05/24, 11:15:58\\u202fPM] Satyam: achha fir o umpire nhi hai\\n[07/05/24, 11:16:48\\u202fPM] Ishu: Kl se match dekhna band\\n[07/05/24, 11:17:13\\u202fPM] Ishu: Aise umpiring dekhna acha hai match hi Mt dekho\\n[07/05/24, 11:18:39\\u202fPM] Satyam: o to hai\\n[07/05/24, 11:18:53\\u202fPM] Ishu: Ab to bilkul nhi dekhunga\\n[07/05/24, 11:18:58\\u202fPM] Ishu: Ye wide ni hai\\n[07/05/24, 11:19:01\\u202fPM] Ishu: 😂😂😂\\n[07/05/24, 11:19:08\\u202fPM] Amitabh: Bhen ka loda wide nhi dekh rhe kya isko\\n[07/05/24, 11:19:36\\u202fPM] Satyam: baki sbko sb dikh rha sirf umpires ke\\n[07/05/24, 11:20:27\\u202fPM] Amitabh: Players ke jagah umpire set ho rhe h\\n[07/05/24, 11:20:50\\u202fPM] Ishu: Paisa ki maya hai bhaiya\\n[07/05/24, 11:21:52\\u202fPM] Ishu: Well played umpires\\n[07/05/24, 11:21:55\\u202fPM] Ishu: 😂😂😂😂\\n[07/05/24, 11:22:07\\u202fPM] Ishu: Player nhi khela umpires khela hai\\n[07/05/24, 11:22:54\\u202fPM] Parvez: Powel out\\n[07/05/24, 11:23:01\\u202fPM] Parvez: Khel khatam\\n[07/05/24, 11:23:24\\u202fPM] Parvez: Halka chirag sa tha buj gaya 😂\\n[07/05/24, 11:25:31\\u202fPM] Amitabh: Bhaiya yr Delhi 14 player sa khel rhe h isliya Jeet hai \\n11 players  3 umpires\\n[07/05/24, 11:25:47\\u202fPM] Amitabh: Man of the match - 3rd umpire\\n[07/05/24, 11:30:15\\u202fPM] Amitabh: Muja lgta tha hum log he umpiring kharab krte h \\nYa to  humara record tod gay 🤣🤣\\n[07/05/24, 11:30:54\\u202fPM] ~\\u202fAshwin Rai: Subhratriiii subhratriiii subhratriiii ✨🥱\\n[08/05/24, 6:50:05\\u202fAM] ~\\u202fNeeraj Vohra: https://www.instagram.com/reel/C6qBqZjSqOM/?igsh=OGVpemd4N3Eydnd5\\n[08/05/24, 7:33:27\\u202fAM] ~\\u202fNeeraj Vohra: Hi....Can Apply for \"Indegene IPO\".......Good One\\n[08/05/24, 7:33:39\\u202fAM] ~\\u202fNeeraj Vohra: 14,916/- will be blocked for 5 days\\n[08/05/24, 7:34:30\\u202fAM] Sajid: Ye kha ki video hai\\n[08/05/24, 7:34:54\\u202fAM] Sajid: Hum bhi chalte hai\\n[08/05/24, 7:45:23\\u202fAM] ~\\u202fNeeraj Vohra: Video ka to pata nahi\\n[08/05/24, 7:49:21\\u202fAM] ~\\u202fNeeraj Vohra: https://www.instagram.com/reel/C6YAwPWJ1EZ/?igsh=a3A2NHRibXo2eGZh\\n[08/05/24, 7:50:21\\u202fAM] ~\\u202fNeeraj Vohra: Ye 👆 hua tha hamare Vijay bhai ke saath islea vo gussa ho gaye the 😉\\n'"
      ]
     },
     "execution_count": 5,
     "metadata": {},
     "output_type": "execute_result"
    }
   ],
   "source": [
    "data"
   ]
  },
  {
   "cell_type": "code",
   "execution_count": 6,
   "id": "8d03205b",
   "metadata": {},
   "outputs": [
    {
     "name": "stdout",
     "output_type": "stream",
     "text": [
      "[18/04/24, 11:58:09 PM] Cricket @Dussehra/District🏏: ‎Messages and calls are end-to-end encrypted. No one outside of this chat, not even WhatsApp, can read or listen to them.\n",
      "[18/04/24, 11:58:09 PM] Cricket @Dussehra/District🏏: ‎‎‎The message timer was updated. ‎New messages will disappear from this chat ‎24 hours after they're sent, except when kept. ‎Tap to change.\n",
      "[25/04/24, 9:56:01 AM] Sachin: ‎Sachin pinned a message\n",
      "[05/05/24, 10:51:19 AM] Cricket @Dussehra/District🏏: ‎Parvez added ‪+91 76674 69634‬, ‪+91 96108 88856‬, and ‪+91 96825 46130‬\n",
      "[05/05/24, 10:41:01 PM] Vijay Bro: ‎Parvez added Vijay Bro\n",
      "[07/05/24, 2:27:40 PM] ~ Neeraj Vohra: Guys.....Good IPO's are on the list.....shud look at these for side income\n",
      "[07/05/24, 2:28:17 PM] ~ Neeraj Vohra: I m expecting u all must be having Dmat Accounts\n",
      "[07/05/24, 2:29:25 PM] ~ Neeraj Vohra: If not, then let me know, I'll guide u\n",
      "[07/05/24, 2:30:34 PM] ~ Ashwin Rai: I've kuch kuch shares but not IPO's 😅\n",
      "[07/05/24, 2:39:07 PM] ~ Neeraj Vohra: Look for Ongoing SME n IPO without delay......decent opportunities we r having now ....\n",
      "[07/05/24, 2:53:25 PM] Parvez: Arey bhaisaab hum log chote mote log hai 😅\n",
      "[07/05/24, 2:57:08 PM] ~ Neeraj Vohra: Parvez miyan.....aap chote to nahi par mote jarur ho.....par pehle se fit lag rahe the kal to 😎\n",
      "[07/05/24, 3:48:21 PM] Parvez: IPO's bade log kheltey hai jinke paas andha paisa hota hai 😂,,,, market mein paisa lagana hum logo ke liye bewakoofi hai ‎<This message was edited>\n",
      "[07/05/24, 3:49:18 PM] Parvez: By the way guide me 😃\n",
      "[07/05/24, 3:49:34 PM] Parvez: No Dmat Accounts\n",
      "[07/05/24, 3:54:19 PM] ~ Neeraj Vohra: Bhai IPO ke liye per account around 15,000 ki hi requirement hoti hai......which we can easily afford\n",
      "[07/05/24, 3:54:41 PM] Parvez: Ok\n",
      "[07/05/24, 3:55:39 PM] ~ Neeraj Vohra: 1st u need to open an Account with a trusted and established broker\n",
      "[07/05/24, 3:57:46 PM] ~ Neeraj Vohra: I have my account in Stoxkart (of SMC) and in Zerodha\n",
      "[07/05/24, 3:58:25 PM] Parvez: Hmm...\n",
      "[07/05/24, 3:58:30 PM] Parvez: Will see..\n",
      "[07/05/24, 3:58:42 PM] ~ Neeraj Vohra: https://signup.stoxkart.com/e-kyc/mobile?param1=N24BD00317\n",
      "[07/05/24, 3:59:55 PM] ~ Neeraj Vohra: u can open ur Account in Stoxkart thru this signup link.......keep ur Pan Card and 6 months bank statement ready with u while doing so\n",
      "[07/05/24, 9:30:01 PM] ~ Ashwin Rai: https://www.instagram.com/reel/C6ps2eJiTix/?igsh=MWRiYTk0MGR4azhhYw==\n",
      "[07/05/24, 11:10:04 PM] Satyam: yha to hmlogo me jab kabhi sabke worst umpiring hua hoga usme v ipl se to achha hi krte hai\n",
      "[07/05/24, 11:10:28 PM] Satyam: technology ke baad v itna bakbaas umpiring krte hai ye log\n",
      "[07/05/24, 11:11:32 PM] Amitabh: 3 grade umpiring kr rhe h\n",
      "Dubra check bhi nhi kiya\n",
      "[07/05/24, 11:11:44 PM] Amitabh: Diffrent angles se\n",
      "[07/05/24, 11:12:36 PM] Satyam: whi to but ye to sidha hi lg rha tha touch hua hai\n",
      "[07/05/24, 11:13:44 PM] Amitabh: 2 bar touch hua h\n",
      "[07/05/24, 11:14:08 PM] Satyam: ab jb touch hu uske baad ko bwst angle bol kr dekhega to baad me firse kha se sahi dikhega\n",
      "[07/05/24, 11:14:11 PM] Ishu: Sab Paisa ki moh Maya hai\n",
      "[07/05/24, 11:14:14 PM] Satyam: whi to\n",
      "[07/05/24, 11:14:31 PM] Amitabh: Ek bar dekha bas itne close call mai\n",
      "[07/05/24, 11:14:38 PM] Ishu: Even dobara check bhi nhi Kara\n",
      "[07/05/24, 11:15:12 PM] Satyam: isliye to yha ke logo ko bahar umpires rakhte hi nhi hai, pagal hk gya hai ye sb\n",
      "[07/05/24, 11:15:39 PM] Ishu: Shyd Jo 3rd umpire foreigner hai\n",
      "[07/05/24, 11:15:49 PM] Amitabh: India ka naam dubta h\n",
      "[07/05/24, 11:15:58 PM] Satyam: achha fir o umpire nhi hai\n",
      "[07/05/24, 11:16:48 PM] Ishu: Kl se match dekhna band\n",
      "[07/05/24, 11:17:13 PM] Ishu: Aise umpiring dekhna acha hai match hi Mt dekho\n",
      "[07/05/24, 11:18:39 PM] Satyam: o to hai\n",
      "[07/05/24, 11:18:53 PM] Ishu: Ab to bilkul nhi dekhunga\n",
      "[07/05/24, 11:18:58 PM] Ishu: Ye wide ni hai\n",
      "[07/05/24, 11:19:01 PM] Ishu: 😂😂😂\n",
      "[07/05/24, 11:19:08 PM] Amitabh: Bhen ka loda wide nhi dekh rhe kya isko\n",
      "[07/05/24, 11:19:36 PM] Satyam: baki sbko sb dikh rha sirf umpires ke\n",
      "[07/05/24, 11:20:27 PM] Amitabh: Players ke jagah umpire set ho rhe h\n",
      "[07/05/24, 11:20:50 PM] Ishu: Paisa ki maya hai bhaiya\n",
      "[07/05/24, 11:21:52 PM] Ishu: Well played umpires\n",
      "[07/05/24, 11:21:55 PM] Ishu: 😂😂😂😂\n",
      "[07/05/24, 11:22:07 PM] Ishu: Player nhi khela umpires khela hai\n",
      "[07/05/24, 11:22:54 PM] Parvez: Powel out\n",
      "[07/05/24, 11:23:01 PM] Parvez: Khel khatam\n",
      "[07/05/24, 11:23:24 PM] Parvez: Halka chirag sa tha buj gaya 😂\n",
      "[07/05/24, 11:25:31 PM] Amitabh: Bhaiya yr Delhi 14 player sa khel rhe h isliya Jeet hai \n",
      "11 players  3 umpires\n",
      "[07/05/24, 11:25:47 PM] Amitabh: Man of the match - 3rd umpire\n",
      "[07/05/24, 11:30:15 PM] Amitabh: Muja lgta tha hum log he umpiring kharab krte h \n",
      "Ya to  humara record tod gay 🤣🤣\n",
      "[07/05/24, 11:30:54 PM] ~ Ashwin Rai: Subhratriiii subhratriiii subhratriiii ✨🥱\n",
      "[08/05/24, 6:50:05 AM] ~ Neeraj Vohra: https://www.instagram.com/reel/C6qBqZjSqOM/?igsh=OGVpemd4N3Eydnd5\n",
      "[08/05/24, 7:33:27 AM] ~ Neeraj Vohra: Hi....Can Apply for \"Indegene IPO\".......Good One\n",
      "[08/05/24, 7:33:39 AM] ~ Neeraj Vohra: 14,916/- will be blocked for 5 days\n",
      "[08/05/24, 7:34:30 AM] Sajid: Ye kha ki video hai\n",
      "[08/05/24, 7:34:54 AM] Sajid: Hum bhi chalte hai\n",
      "[08/05/24, 7:45:23 AM] ~ Neeraj Vohra: Video ka to pata nahi\n",
      "[08/05/24, 7:49:21 AM] ~ Neeraj Vohra: https://www.instagram.com/reel/C6YAwPWJ1EZ/?igsh=a3A2NHRibXo2eGZh\n",
      "[08/05/24, 7:50:21 AM] ~ Neeraj Vohra: Ye 👆 hua tha hamare Vijay bhai ke saath islea vo gussa ho gaye the 😉\n",
      "\n"
     ]
    }
   ],
   "source": [
    "print(data)"
   ]
  },
  {
   "cell_type": "code",
   "execution_count": 7,
   "id": "9f790063",
   "metadata": {},
   "outputs": [],
   "source": [
    "pattern='\\[\\d{2}/\\d{2}/\\d{2},\\s\\d{1}:\\d{2}\\d{2}\\s[A,P]{1}M]\\s'"
   ]
  },
  {
   "cell_type": "code",
   "execution_count": 8,
   "id": "e7257719",
   "metadata": {},
   "outputs": [
    {
     "data": {
      "text/plain": [
       "['[18/04/24, 11:58:09\\u202fPM] Cricket @Dussehra/District🏏: \\u200eMessages and calls are end-to-end encrypted. No one outside of this chat, not even WhatsApp, can read or listen to them.\\n[18/04/24, 11:58:09\\u202fPM] Cricket @Dussehra/District🏏: \\u200e\\u200e\\u200eThe message timer was updated. \\u200eNew messages will disappear from this chat \\u200e24 hours after they\\'re sent, except when kept. \\u200eTap to change.\\n[25/04/24, 9:56:01\\u202fAM] Sachin: \\u200eSachin pinned a message\\n[05/05/24, 10:51:19\\u202fAM] Cricket @Dussehra/District🏏: \\u200eParvez added \\u202a+91\\xa076674\\xa069634\\u202c, \\u202a+91\\xa096108\\xa088856\\u202c, and \\u202a+91\\xa096825\\xa046130\\u202c\\n[05/05/24, 10:41:01\\u202fPM] Vijay Bro: \\u200eParvez added Vijay Bro\\n[07/05/24, 2:27:40\\u202fPM] ~\\u202fNeeraj Vohra: Guys.....Good IPO\\'s are on the list.....shud look at these for side income\\n[07/05/24, 2:28:17\\u202fPM] ~\\u202fNeeraj Vohra: I m expecting u all must be having Dmat Accounts\\n[07/05/24, 2:29:25\\u202fPM] ~\\u202fNeeraj Vohra: If not, then let me know, I\\'ll guide u\\n[07/05/24, 2:30:34\\u202fPM] ~\\u202fAshwin Rai: I\\'ve kuch kuch shares but not IPO\\'s 😅\\n[07/05/24, 2:39:07\\u202fPM] ~\\u202fNeeraj Vohra: Look for Ongoing SME n IPO without delay......decent opportunities we r having now ....\\n[07/05/24, 2:53:25\\u202fPM] Parvez: Arey bhaisaab hum log chote mote log hai 😅\\n[07/05/24, 2:57:08\\u202fPM] ~\\u202fNeeraj Vohra: Parvez miyan.....aap chote to nahi par mote jarur ho.....par pehle se fit lag rahe the kal to 😎\\n[07/05/24, 3:48:21\\u202fPM] Parvez: IPO\\'s bade log kheltey hai jinke paas andha paisa hota hai 😂,,,, market mein paisa lagana hum logo ke liye bewakoofi hai \\u200e<This message was edited>\\n[07/05/24, 3:49:18\\u202fPM] Parvez: By the way guide me 😃\\n[07/05/24, 3:49:34\\u202fPM] Parvez: No Dmat Accounts\\n[07/05/24, 3:54:19\\u202fPM] ~\\u202fNeeraj Vohra: Bhai IPO ke liye per account around 15,000 ki hi requirement hoti hai......which we can easily afford\\n[07/05/24, 3:54:41\\u202fPM] Parvez: Ok\\n[07/05/24, 3:55:39\\u202fPM] ~\\u202fNeeraj Vohra: 1st u need to open an Account with a trusted and established broker\\n[07/05/24, 3:57:46\\u202fPM] ~\\u202fNeeraj Vohra: I have my account in Stoxkart (of SMC) and in Zerodha\\n[07/05/24, 3:58:25\\u202fPM] Parvez: Hmm...\\n[07/05/24, 3:58:30\\u202fPM] Parvez: Will see..\\n[07/05/24, 3:58:42\\u202fPM] ~\\u202fNeeraj Vohra: https://signup.stoxkart.com/e-kyc/mobile?param1=N24BD00317\\n[07/05/24, 3:59:55\\u202fPM] ~\\u202fNeeraj Vohra: u can open ur Account in Stoxkart thru this signup link.......keep ur Pan Card and 6 months bank statement ready with u while doing so\\n[07/05/24, 9:30:01\\u202fPM] ~\\u202fAshwin Rai: https://www.instagram.com/reel/C6ps2eJiTix/?igsh=MWRiYTk0MGR4azhhYw==\\n[07/05/24, 11:10:04\\u202fPM] Satyam: yha to hmlogo me jab kabhi sabke worst umpiring hua hoga usme v ipl se to achha hi krte hai\\n[07/05/24, 11:10:28\\u202fPM] Satyam: technology ke baad v itna bakbaas umpiring krte hai ye log\\n[07/05/24, 11:11:32\\u202fPM] Amitabh: 3 grade umpiring kr rhe h\\nDubra check bhi nhi kiya\\n[07/05/24, 11:11:44\\u202fPM] Amitabh: Diffrent angles se\\n[07/05/24, 11:12:36\\u202fPM] Satyam: whi to but ye to sidha hi lg rha tha touch hua hai\\n[07/05/24, 11:13:44\\u202fPM] Amitabh: 2 bar touch hua h\\n[07/05/24, 11:14:08\\u202fPM] Satyam: ab jb touch hu uske baad ko bwst angle bol kr dekhega to baad me firse kha se sahi dikhega\\n[07/05/24, 11:14:11\\u202fPM] Ishu: Sab Paisa ki moh Maya hai\\n[07/05/24, 11:14:14\\u202fPM] Satyam: whi to\\n[07/05/24, 11:14:31\\u202fPM] Amitabh: Ek bar dekha bas itne close call mai\\n[07/05/24, 11:14:38\\u202fPM] Ishu: Even dobara check bhi nhi Kara\\n[07/05/24, 11:15:12\\u202fPM] Satyam: isliye to yha ke logo ko bahar umpires rakhte hi nhi hai, pagal hk gya hai ye sb\\n[07/05/24, 11:15:39\\u202fPM] Ishu: Shyd Jo 3rd umpire foreigner hai\\n[07/05/24, 11:15:49\\u202fPM] Amitabh: India ka naam dubta h\\n[07/05/24, 11:15:58\\u202fPM] Satyam: achha fir o umpire nhi hai\\n[07/05/24, 11:16:48\\u202fPM] Ishu: Kl se match dekhna band\\n[07/05/24, 11:17:13\\u202fPM] Ishu: Aise umpiring dekhna acha hai match hi Mt dekho\\n[07/05/24, 11:18:39\\u202fPM] Satyam: o to hai\\n[07/05/24, 11:18:53\\u202fPM] Ishu: Ab to bilkul nhi dekhunga\\n[07/05/24, 11:18:58\\u202fPM] Ishu: Ye wide ni hai\\n[07/05/24, 11:19:01\\u202fPM] Ishu: 😂😂😂\\n[07/05/24, 11:19:08\\u202fPM] Amitabh: Bhen ka loda wide nhi dekh rhe kya isko\\n[07/05/24, 11:19:36\\u202fPM] Satyam: baki sbko sb dikh rha sirf umpires ke\\n[07/05/24, 11:20:27\\u202fPM] Amitabh: Players ke jagah umpire set ho rhe h\\n[07/05/24, 11:20:50\\u202fPM] Ishu: Paisa ki maya hai bhaiya\\n[07/05/24, 11:21:52\\u202fPM] Ishu: Well played umpires\\n[07/05/24, 11:21:55\\u202fPM] Ishu: 😂😂😂😂\\n[07/05/24, 11:22:07\\u202fPM] Ishu: Player nhi khela umpires khela hai\\n[07/05/24, 11:22:54\\u202fPM] Parvez: Powel out\\n[07/05/24, 11:23:01\\u202fPM] Parvez: Khel khatam\\n[07/05/24, 11:23:24\\u202fPM] Parvez: Halka chirag sa tha buj gaya 😂\\n[07/05/24, 11:25:31\\u202fPM] Amitabh: Bhaiya yr Delhi 14 player sa khel rhe h isliya Jeet hai \\n11 players  3 umpires\\n[07/05/24, 11:25:47\\u202fPM] Amitabh: Man of the match - 3rd umpire\\n[07/05/24, 11:30:15\\u202fPM] Amitabh: Muja lgta tha hum log he umpiring kharab krte h \\nYa to  humara record tod gay 🤣🤣\\n[07/05/24, 11:30:54\\u202fPM] ~\\u202fAshwin Rai: Subhratriiii subhratriiii subhratriiii ✨🥱\\n[08/05/24, 6:50:05\\u202fAM] ~\\u202fNeeraj Vohra: https://www.instagram.com/reel/C6qBqZjSqOM/?igsh=OGVpemd4N3Eydnd5\\n[08/05/24, 7:33:27\\u202fAM] ~\\u202fNeeraj Vohra: Hi....Can Apply for \"Indegene IPO\".......Good One\\n[08/05/24, 7:33:39\\u202fAM] ~\\u202fNeeraj Vohra: 14,916/- will be blocked for 5 days\\n[08/05/24, 7:34:30\\u202fAM] Sajid: Ye kha ki video hai\\n[08/05/24, 7:34:54\\u202fAM] Sajid: Hum bhi chalte hai\\n[08/05/24, 7:45:23\\u202fAM] ~\\u202fNeeraj Vohra: Video ka to pata nahi\\n[08/05/24, 7:49:21\\u202fAM] ~\\u202fNeeraj Vohra: https://www.instagram.com/reel/C6YAwPWJ1EZ/?igsh=a3A2NHRibXo2eGZh\\n[08/05/24, 7:50:21\\u202fAM] ~\\u202fNeeraj Vohra: Ye 👆 hua tha hamare Vijay bhai ke saath islea vo gussa ho gaye the 😉\\n']"
      ]
     },
     "execution_count": 8,
     "metadata": {},
     "output_type": "execute_result"
    }
   ],
   "source": [
    "messages=re.split(pattern,data)\n",
    "messages"
   ]
  },
  {
   "cell_type": "code",
   "execution_count": 9,
   "id": "9dd5d3a1",
   "metadata": {},
   "outputs": [
    {
     "data": {
      "text/plain": [
       "[]"
      ]
     },
     "execution_count": 9,
     "metadata": {},
     "output_type": "execute_result"
    }
   ],
   "source": [
    "messages=messages[1:]\n",
    "messages"
   ]
  },
  {
   "cell_type": "code",
   "execution_count": 10,
   "id": "138b9c1e",
   "metadata": {},
   "outputs": [
    {
     "data": {
      "text/plain": [
       "0"
      ]
     },
     "execution_count": 10,
     "metadata": {},
     "output_type": "execute_result"
    }
   ],
   "source": [
    "len(messages)"
   ]
  },
  {
   "cell_type": "code",
   "execution_count": 11,
   "id": "9d731827",
   "metadata": {},
   "outputs": [
    {
     "data": {
      "text/plain": [
       "[]"
      ]
     },
     "execution_count": 11,
     "metadata": {},
     "output_type": "execute_result"
    }
   ],
   "source": [
    "dates=re.findall(pattern,data)\n",
    "dates"
   ]
  },
  {
   "cell_type": "code",
   "execution_count": 12,
   "id": "d0399175",
   "metadata": {},
   "outputs": [
    {
     "data": {
      "text/plain": [
       "0"
      ]
     },
     "execution_count": 12,
     "metadata": {},
     "output_type": "execute_result"
    }
   ],
   "source": [
    "len(dates)"
   ]
  },
  {
   "cell_type": "code",
   "execution_count": 13,
   "id": "c7d9e9dd",
   "metadata": {},
   "outputs": [
    {
     "data": {
      "text/plain": [
       "[]"
      ]
     },
     "execution_count": 13,
     "metadata": {},
     "output_type": "execute_result"
    }
   ],
   "source": [
    "date=list(map(lambda x:x.replace('\\u202f',''),dates))\n",
    "date"
   ]
  },
  {
   "cell_type": "code",
   "execution_count": 14,
   "id": "76b999db",
   "metadata": {},
   "outputs": [
    {
     "data": {
      "text/plain": [
       "0"
      ]
     },
     "execution_count": 14,
     "metadata": {},
     "output_type": "execute_result"
    }
   ],
   "source": [
    "len(date)"
   ]
  },
  {
   "cell_type": "code",
   "execution_count": 15,
   "id": "16089f0b",
   "metadata": {},
   "outputs": [
    {
     "data": {
      "text/plain": [
       "[]"
      ]
     },
     "execution_count": 15,
     "metadata": {},
     "output_type": "execute_result"
    }
   ],
   "source": [
    "messages"
   ]
  },
  {
   "cell_type": "code",
   "execution_count": 16,
   "id": "445adbe6",
   "metadata": {},
   "outputs": [
    {
     "ename": "AttributeError",
     "evalue": "'list' object has no attribute 'shape'",
     "output_type": "error",
     "traceback": [
      "\u001b[1;31m---------------------------------------------------------------------------\u001b[0m",
      "\u001b[1;31mAttributeError\u001b[0m                            Traceback (most recent call last)",
      "Cell \u001b[1;32mIn[16], line 1\u001b[0m\n\u001b[1;32m----> 1\u001b[0m messages\u001b[38;5;241m.\u001b[39mshape\n",
      "\u001b[1;31mAttributeError\u001b[0m: 'list' object has no attribute 'shape'"
     ]
    }
   ],
   "source": [
    "messages.shape"
   ]
  },
  {
   "cell_type": "code",
   "execution_count": null,
   "id": "ae4aabef",
   "metadata": {},
   "outputs": [],
   "source": [
    "df[\"year\"]=df[\"message_date\"].dt.year\n",
    "df[\"month\"]=df[\"message_date\"].dt.month_name()\n",
    "df[\"day\"]=df[\"message_date\"].dt.day\n",
    "df[\"hour\"]=df[\"message_date\"].dt.hour\n",
    "df[\"month\"]=df[\"message_date\"].dt.month\n",
    "df[\"day_name\"]=df[\"message_date\"].dt.day_name()\n",
    "df[\"Date\"]=df[\"message_date\"].dt.date\n",
    "df[\"minute\"]=df[\"message_date\"].dt.minute\n",
    "df.sample(6)\n",
    "\n",
    "\n"
   ]
  },
  {
   "cell_type": "markdown",
   "id": "ad37de1a",
   "metadata": {},
   "source": [
    "# how long is my chat"
   ]
  },
  {
   "cell_type": "code",
   "execution_count": null,
   "id": "ffdf6cae",
   "metadata": {},
   "outputs": [],
   "source": [
    "chat=df[df['user_name']!='group_notification']\n",
    "chat"
   ]
  },
  {
   "cell_type": "markdown",
   "id": "cf30a293",
   "metadata": {},
   "source": [
    "# how many group notification"
   ]
  },
  {
   "cell_type": "code",
   "execution_count": null,
   "id": "8d73adf5",
   "metadata": {},
   "outputs": [],
   "source": [
    "gn_chat=df[df['user_name']=='group_notification']\n",
    "len(gn_chat)"
   ]
  },
  {
   "cell_type": "code",
   "execution_count": null,
   "id": "ee35224b",
   "metadata": {},
   "outputs": [],
   "source": [
    "l=[7417,29]\n",
    "p.figure(figsize=(14,6))\n",
    "p.subplot(1,2,1)\n",
    "p.bar([\"chat_message\",\"group_notification\"],l,color=[\"green\",\"red\"])\n",
    "p.title(\"count of chat message vs group notification\",fontsize=15,fontweight=\"bold\",color=\"brown\")\n",
    "p.subplot(1,2,2)\n",
    "p.pie(l,labels=[\"chat_message\",\"group_notification\"],autopct=\"%.2f%%\",explode=[0,1])\n",
    "p.title(\"percentage  of chat message vs group notification\",fontsize=15,fontweight=\"bold\",color=\"brown\");\n",
    "\n",
    "\n",
    "\n"
   ]
  },
  {
   "cell_type": "markdown",
   "id": "b1aeaa46",
   "metadata": {},
   "source": [
    "# how many medias in my chat "
   ]
  },
  {
   "cell_type": "code",
   "execution_count": null,
   "id": "86b298e6",
   "metadata": {},
   "outputs": [],
   "source": [
    "len(df[df['message']==' <Media omitted>\\n'])\n"
   ]
  },
  {
   "cell_type": "markdown",
   "id": "de6aaa6f",
   "metadata": {},
   "source": [
    "# how many urls in the chat"
   ]
  },
  {
   "cell_type": "code",
   "execution_count": 18,
   "id": "a248b283",
   "metadata": {},
   "outputs": [],
   "source": [
    "from urlextract import URLExtract"
   ]
  },
  {
   "cell_type": "code",
   "execution_count": null,
   "id": "a69790e7",
   "metadata": {},
   "outputs": [],
   "source": [
    "#pip install urlextract"
   ]
  },
  {
   "cell_type": "code",
   "execution_count": null,
   "id": "90fed809",
   "metadata": {},
   "outputs": [],
   "source": [
    "chat['']"
   ]
  },
  {
   "cell_type": "code",
   "execution_count": 19,
   "id": "716aa951",
   "metadata": {},
   "outputs": [
    {
     "ename": "NameError",
     "evalue": "name 'chat' is not defined",
     "output_type": "error",
     "traceback": [
      "\u001b[1;31m---------------------------------------------------------------------------\u001b[0m",
      "\u001b[1;31mNameError\u001b[0m                                 Traceback (most recent call last)",
      "Cell \u001b[1;32mIn[19], line 1\u001b[0m\n\u001b[1;32m----> 1\u001b[0m sb\u001b[38;5;241m.\u001b[39mcountplot(x\u001b[38;5;241m=\u001b[39m\u001b[38;5;124m\"\u001b[39m\u001b[38;5;124muser_name\u001b[39m\u001b[38;5;124m\"\u001b[39m,data\u001b[38;5;241m=\u001b[39mchat)\n\u001b[0;32m      2\u001b[0m p\u001b[38;5;241m.\u001b[39mxticks(rotation\u001b[38;5;241m=\u001b[39m\u001b[38;5;241m90\u001b[39m)\n",
      "\u001b[1;31mNameError\u001b[0m: name 'chat' is not defined"
     ]
    }
   ],
   "source": [
    "sb.countplot(x=\"user_name\",data=chat)\n",
    "p.xticks(rotation=90);\n",
    "\n",
    "\n"
   ]
  },
  {
   "cell_type": "code",
   "execution_count": 20,
   "id": "fceba7e5",
   "metadata": {},
   "outputs": [
    {
     "ename": "NameError",
     "evalue": "name 'chat' is not defined",
     "output_type": "error",
     "traceback": [
      "\u001b[1;31m---------------------------------------------------------------------------\u001b[0m",
      "\u001b[1;31mNameError\u001b[0m                                 Traceback (most recent call last)",
      "Cell \u001b[1;32mIn[20], line 1\u001b[0m\n\u001b[1;32m----> 1\u001b[0m top_3\u001b[38;5;241m=\u001b[39mchat[\u001b[38;5;124m\"\u001b[39m\u001b[38;5;124muser_name\u001b[39m\u001b[38;5;124m\"\u001b[39m]\u001b[38;5;241m.\u001b[39mvalue_counts()\u001b[38;5;241m.\u001b[39mhead(\u001b[38;5;241m3\u001b[39m)\n\u001b[0;32m      2\u001b[0m bottom_3\u001b[38;5;241m=\u001b[39mchat[\u001b[38;5;124m\"\u001b[39m\u001b[38;5;124muser_name\u001b[39m\u001b[38;5;124m\"\u001b[39m]\u001b[38;5;241m.\u001b[39mvalue_counts()\u001b[38;5;241m.\u001b[39mtail(\u001b[38;5;241m3\u001b[39m)\n\u001b[0;32m      6\u001b[0m p\u001b[38;5;241m.\u001b[39mfigure(figsize\u001b[38;5;241m=\u001b[39m(\u001b[38;5;241m14\u001b[39m,\u001b[38;5;241m4\u001b[39m),facecolor\u001b[38;5;241m=\u001b[39m\u001b[38;5;124m\"\u001b[39m\u001b[38;5;124mpink\u001b[39m\u001b[38;5;124m\"\u001b[39m)\n",
      "\u001b[1;31mNameError\u001b[0m: name 'chat' is not defined"
     ]
    }
   ],
   "source": [
    "top_3=chat[\"user_name\"].value_counts().head(3)\n",
    "bottom_3=chat[\"user_name\"].value_counts().tail(3)\n",
    "\n",
    "\n",
    "\n",
    "p.figure(figsize=(14,4),facecolor=\"pink\")\n",
    "p.subplot(1,2,1)\n",
    "sb.barplot(x=top_3.index,y=top_3.values,palette=\"bright\")\n",
    "p.title(\"Top 3 Active users \",color=\"brown\",fontsize=20)\n",
    "p.subplot(1,2,2)\n",
    "sb.barplot(x=bottom_3.index,y=bottom_3.values,palette=\"bright\")\n",
    "p.title(\"Bottom 3 Active users \",color=\"brown\",fontsize=20)\n",
    "\n",
    "\n"
   ]
  },
  {
   "cell_type": "markdown",
   "id": "aa83189f",
   "metadata": {},
   "source": [
    "# total words in the chat"
   ]
  },
  {
   "cell_type": "code",
   "execution_count": 21,
   "id": "09b1276d",
   "metadata": {},
   "outputs": [
    {
     "ename": "NameError",
     "evalue": "name 'chat' is not defined",
     "output_type": "error",
     "traceback": [
      "\u001b[1;31m---------------------------------------------------------------------------\u001b[0m",
      "\u001b[1;31mNameError\u001b[0m                                 Traceback (most recent call last)",
      "Cell \u001b[1;32mIn[21], line 1\u001b[0m\n\u001b[1;32m----> 1\u001b[0m chat[\u001b[38;5;124m'\u001b[39m\u001b[38;5;124mmessage\u001b[39m\u001b[38;5;124m'\u001b[39m]\u001b[38;5;241m.\u001b[39munique()\n",
      "\u001b[1;31mNameError\u001b[0m: name 'chat' is not defined"
     ]
    }
   ],
   "source": [
    "chat['message'].unique()"
   ]
  },
  {
   "cell_type": "code",
   "execution_count": 22,
   "id": "2b345fe4",
   "metadata": {},
   "outputs": [
    {
     "ename": "NameError",
     "evalue": "name 'chat' is not defined",
     "output_type": "error",
     "traceback": [
      "\u001b[1;31m---------------------------------------------------------------------------\u001b[0m",
      "\u001b[1;31mNameError\u001b[0m                                 Traceback (most recent call last)",
      "Cell \u001b[1;32mIn[22], line 1\u001b[0m\n\u001b[1;32m----> 1\u001b[0m chat1\u001b[38;5;241m=\u001b[39m\u001b[38;5;28mlist\u001b[39m(\u001b[38;5;28mmap\u001b[39m(\u001b[38;5;28;01mlambda\u001b[39;00m x: x\u001b[38;5;241m.\u001b[39mreplace(\u001b[38;5;124m\"\u001b[39m\u001b[38;5;130;01m\\n\u001b[39;00m\u001b[38;5;124m\"\u001b[39m,\u001b[38;5;124m\"\u001b[39m\u001b[38;5;124m\"\u001b[39m),chat[\u001b[38;5;124m\"\u001b[39m\u001b[38;5;124mmessage\u001b[39m\u001b[38;5;124m\"\u001b[39m]\u001b[38;5;241m.\u001b[39mvalues))\n\u001b[0;32m      2\u001b[0m chat1\n",
      "\u001b[1;31mNameError\u001b[0m: name 'chat' is not defined"
     ]
    }
   ],
   "source": [
    "chat1=list(map(lambda x: x.replace(\"\\n\",\"\"),chat[\"message\"].values))\n",
    "chat1\n",
    "\n",
    "\n"
   ]
  },
  {
   "cell_type": "code",
   "execution_count": 23,
   "id": "3450343c",
   "metadata": {},
   "outputs": [
    {
     "ename": "NameError",
     "evalue": "name 'chat1' is not defined",
     "output_type": "error",
     "traceback": [
      "\u001b[1;31m---------------------------------------------------------------------------\u001b[0m",
      "\u001b[1;31mNameError\u001b[0m                                 Traceback (most recent call last)",
      "Cell \u001b[1;32mIn[23], line 2\u001b[0m\n\u001b[0;32m      1\u001b[0m t_words\u001b[38;5;241m=\u001b[39m[]\n\u001b[1;32m----> 2\u001b[0m \u001b[38;5;28;01mfor\u001b[39;00m m \u001b[38;5;129;01min\u001b[39;00m chat1:\n\u001b[0;32m      3\u001b[0m     words\u001b[38;5;241m=\u001b[39mm\u001b[38;5;241m.\u001b[39msplit()\n\u001b[0;32m      4\u001b[0m     t_words\u001b[38;5;241m.\u001b[39mextend(words)\n",
      "\u001b[1;31mNameError\u001b[0m: name 'chat1' is not defined"
     ]
    }
   ],
   "source": [
    "t_words=[]\n",
    "for m in chat1:\n",
    "    words=m.split()\n",
    "    t_words.extend(words)\n",
    "print(len(t_words))\n",
    "   \n",
    "\n",
    "\n"
   ]
  },
  {
   "cell_type": "code",
   "execution_count": 24,
   "id": "9b557d5d",
   "metadata": {},
   "outputs": [
    {
     "ename": "NameError",
     "evalue": "name 'chat1' is not defined",
     "output_type": "error",
     "traceback": [
      "\u001b[1;31m---------------------------------------------------------------------------\u001b[0m",
      "\u001b[1;31mNameError\u001b[0m                                 Traceback (most recent call last)",
      "Cell \u001b[1;32mIn[24], line 1\u001b[0m\n\u001b[1;32m----> 1\u001b[0m chat[\u001b[38;5;124m\"\u001b[39m\u001b[38;5;124mmessage\u001b[39m\u001b[38;5;124m\"\u001b[39m]\u001b[38;5;241m=\u001b[39mchat1\n\u001b[0;32m      2\u001b[0m chat\n",
      "\u001b[1;31mNameError\u001b[0m: name 'chat1' is not defined"
     ]
    }
   ],
   "source": [
    "chat[\"message\"]=chat1\n",
    "chat\n",
    "\n",
    "\n"
   ]
  },
  {
   "cell_type": "code",
   "execution_count": 25,
   "id": "cc83fd90",
   "metadata": {},
   "outputs": [
    {
     "ename": "NameError",
     "evalue": "name 'chat' is not defined",
     "output_type": "error",
     "traceback": [
      "\u001b[1;31m---------------------------------------------------------------------------\u001b[0m",
      "\u001b[1;31mNameError\u001b[0m                                 Traceback (most recent call last)",
      "Cell \u001b[1;32mIn[25], line 1\u001b[0m\n\u001b[1;32m----> 1\u001b[0m chat_m\u001b[38;5;241m=\u001b[39mchat[chat[\u001b[38;5;124m\"\u001b[39m\u001b[38;5;124mmessage\u001b[39m\u001b[38;5;124m\"\u001b[39m]\u001b[38;5;241m!=\u001b[39m\u001b[38;5;124m\"\u001b[39m\u001b[38;5;124m <Media omitted>\u001b[39m\u001b[38;5;124m\"\u001b[39m]\n\u001b[0;32m      5\u001b[0m extractor\u001b[38;5;241m=\u001b[39mURLExtract()\n\u001b[0;32m      6\u001b[0m t_words\u001b[38;5;241m=\u001b[39m[]\n",
      "\u001b[1;31mNameError\u001b[0m: name 'chat' is not defined"
     ]
    }
   ],
   "source": [
    "  \n",
    "chat_m=chat[chat[\"message\"]!=\" <Media omitted>\"]\n",
    "\n",
    "\n",
    "\n",
    "extractor=URLExtract()\n",
    "t_words=[]\n",
    "for i in chat_m[\"message\"]:\n",
    "\n",
    "\n",
    "    #print(i)\n",
    "    if len(extractor.find_urls(i))==0:\n",
    "        words=i.split()\n",
    "        t_words.extend(words)\n",
    "print(len(t_words))\n",
    "\n",
    "\n",
    "\n",
    "\n"
   ]
  },
  {
   "cell_type": "code",
   "execution_count": 26,
   "id": "dc9934da",
   "metadata": {},
   "outputs": [],
   "source": [
    "total_words=list(map(lambda x:x.lower(),t_words))\n"
   ]
  },
  {
   "cell_type": "markdown",
   "id": "88f2af97",
   "metadata": {},
   "source": [
    "# top 5 or least 5\n"
   ]
  },
  {
   "cell_type": "code",
   "execution_count": 27,
   "id": "2a954d43",
   "metadata": {},
   "outputs": [
    {
     "name": "stdout",
     "output_type": "stream",
     "text": [
      "Collecting wordcloud\n",
      "  Obtaining dependency information for wordcloud from https://files.pythonhosted.org/packages/f5/b0/247159f61c5d5d6647171bef84430b7efad4db504f0229674024f3a4f7f2/wordcloud-1.9.3-cp311-cp311-win_amd64.whl.metadata\n",
      "  Downloading wordcloud-1.9.3-cp311-cp311-win_amd64.whl.metadata (3.5 kB)\n",
      "Requirement already satisfied: numpy>=1.6.1 in c:\\users\\ravi\\anaconda3\\lib\\site-packages (from wordcloud) (1.24.3)\n",
      "Requirement already satisfied: pillow in c:\\users\\ravi\\anaconda3\\lib\\site-packages (from wordcloud) (10.2.0)\n",
      "Requirement already satisfied: matplotlib in c:\\users\\ravi\\anaconda3\\lib\\site-packages (from wordcloud) (3.7.2)\n",
      "Requirement already satisfied: contourpy>=1.0.1 in c:\\users\\ravi\\anaconda3\\lib\\site-packages (from matplotlib->wordcloud) (1.0.5)\n",
      "Requirement already satisfied: cycler>=0.10 in c:\\users\\ravi\\anaconda3\\lib\\site-packages (from matplotlib->wordcloud) (0.11.0)\n",
      "Requirement already satisfied: fonttools>=4.22.0 in c:\\users\\ravi\\anaconda3\\lib\\site-packages (from matplotlib->wordcloud) (4.25.0)\n",
      "Requirement already satisfied: kiwisolver>=1.0.1 in c:\\users\\ravi\\anaconda3\\lib\\site-packages (from matplotlib->wordcloud) (1.4.4)\n",
      "Requirement already satisfied: packaging>=20.0 in c:\\users\\ravi\\anaconda3\\lib\\site-packages (from matplotlib->wordcloud) (23.1)\n",
      "Requirement already satisfied: pyparsing<3.1,>=2.3.1 in c:\\users\\ravi\\anaconda3\\lib\\site-packages (from matplotlib->wordcloud) (3.0.9)\n",
      "Requirement already satisfied: python-dateutil>=2.7 in c:\\users\\ravi\\anaconda3\\lib\\site-packages (from matplotlib->wordcloud) (2.8.2)\n",
      "Requirement already satisfied: six>=1.5 in c:\\users\\ravi\\anaconda3\\lib\\site-packages (from python-dateutil>=2.7->matplotlib->wordcloud) (1.16.0)\n",
      "Downloading wordcloud-1.9.3-cp311-cp311-win_amd64.whl (300 kB)\n",
      "   ---------------------------------------- 0.0/300.2 kB ? eta -:--:--\n",
      "   - -------------------------------------- 10.2/300.2 kB ? eta -:--:--\n",
      "   -------- ------------------------------- 61.4/300.2 kB 1.1 MB/s eta 0:00:01\n",
      "   ---------------------------------------- 300.2/300.2 kB 3.1 MB/s eta 0:00:00\n",
      "Installing collected packages: wordcloud\n",
      "Successfully installed wordcloud-1.9.3\n",
      "Note: you may need to restart the kernel to use updated packages.\n"
     ]
    }
   ],
   "source": [
    "#pip install wordcloud"
   ]
  },
  {
   "cell_type": "code",
   "execution_count": 28,
   "id": "ebdb8a31",
   "metadata": {},
   "outputs": [],
   "source": [
    "from wordcloud import WordCloud "
   ]
  },
  {
   "cell_type": "code",
   "execution_count": 29,
   "id": "ce169418",
   "metadata": {},
   "outputs": [
    {
     "ename": "NameError",
     "evalue": "name 'text' is not defined",
     "output_type": "error",
     "traceback": [
      "\u001b[1;31m---------------------------------------------------------------------------\u001b[0m",
      "\u001b[1;31mNameError\u001b[0m                                 Traceback (most recent call last)",
      "Cell \u001b[1;32mIn[29], line 1\u001b[0m\n\u001b[1;32m----> 1\u001b[0m wordcloud \u001b[38;5;241m=\u001b[39m WordCloud(width\u001b[38;5;241m=\u001b[39m\u001b[38;5;241m800\u001b[39m, height\u001b[38;5;241m=\u001b[39m\u001b[38;5;241m800\u001b[39m, background_color\u001b[38;5;241m=\u001b[39m\u001b[38;5;124m'\u001b[39m\u001b[38;5;124mblack\u001b[39m\u001b[38;5;124m'\u001b[39m)\u001b[38;5;241m.\u001b[39mgenerate(text)\n\u001b[0;32m      2\u001b[0m p\u001b[38;5;241m.\u001b[39mfigure(figsize\u001b[38;5;241m=\u001b[39m(\u001b[38;5;241m15\u001b[39m,\u001b[38;5;241m15\u001b[39m), facecolor\u001b[38;5;241m=\u001b[39m\u001b[38;5;28;01mNone\u001b[39;00m)\n\u001b[0;32m      3\u001b[0m p\u001b[38;5;241m.\u001b[39mimshow(wordcloud)\n",
      "\u001b[1;31mNameError\u001b[0m: name 'text' is not defined"
     ]
    }
   ],
   "source": [
    "wordcloud = WordCloud(width=800, height=800, background_color='black').generate(text)\n",
    "p.figure(figsize=(15,15), facecolor=None)\n",
    "p.imshow(wordcloud)\n",
    "p.tight_layout(pad=0)\n",
    "p.show()\n",
    "\n"
   ]
  },
  {
   "cell_type": "markdown",
   "id": "31d37451",
   "metadata": {},
   "source": [
    "# which was the most chatting month"
   ]
  },
  {
   "cell_type": "code",
   "execution_count": null,
   "id": "e65b45c0",
   "metadata": {},
   "outputs": [],
   "source": [
    "sb"
   ]
  }
 ],
 "metadata": {
  "kernelspec": {
   "display_name": "Python 3 (ipykernel)",
   "language": "python",
   "name": "python3"
  },
  "language_info": {
   "codemirror_mode": {
    "name": "ipython",
    "version": 3
   },
   "file_extension": ".py",
   "mimetype": "text/x-python",
   "name": "python",
   "nbconvert_exporter": "python",
   "pygments_lexer": "ipython3",
   "version": "3.11.5"
  }
 },
 "nbformat": 4,
 "nbformat_minor": 5
}
