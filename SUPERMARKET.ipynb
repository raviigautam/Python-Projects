{
 "cells": [
  {
   "cell_type": "code",
   "execution_count": 1,
   "id": "339cc775",
   "metadata": {},
   "outputs": [],
   "source": [
    "import pandas as pd\n",
    "import numpy as np\n",
    "import seaborn as sb\n",
    "import matplotlib.pyplot as p"
   ]
  },
  {
   "cell_type": "code",
   "execution_count": 2,
   "id": "f9b21a0f",
   "metadata": {},
   "outputs": [],
   "source": [
    "df=pd.read_csv(\"C:\\\\Users\\\\RAVI\\\\Downloads\\\\data sets-20240328T070809Z-001\\\\data sets\\\\supermarket_sales - Sheet1.csv\")"
   ]
  },
  {
   "cell_type": "code",
   "execution_count": 3,
   "id": "a5e99908",
   "metadata": {},
   "outputs": [
    {
     "data": {
      "text/html": [
       "<div>\n",
       "<style scoped>\n",
       "    .dataframe tbody tr th:only-of-type {\n",
       "        vertical-align: middle;\n",
       "    }\n",
       "\n",
       "    .dataframe tbody tr th {\n",
       "        vertical-align: top;\n",
       "    }\n",
       "\n",
       "    .dataframe thead th {\n",
       "        text-align: right;\n",
       "    }\n",
       "</style>\n",
       "<table border=\"1\" class=\"dataframe\">\n",
       "  <thead>\n",
       "    <tr style=\"text-align: right;\">\n",
       "      <th></th>\n",
       "      <th>Invoice ID</th>\n",
       "      <th>Branch</th>\n",
       "      <th>City</th>\n",
       "      <th>Customer type</th>\n",
       "      <th>Gender</th>\n",
       "      <th>Product line</th>\n",
       "      <th>Unit price</th>\n",
       "      <th>Quantity</th>\n",
       "      <th>Tax 5%</th>\n",
       "      <th>Total</th>\n",
       "      <th>Date</th>\n",
       "      <th>Time</th>\n",
       "      <th>Payment</th>\n",
       "      <th>cogs</th>\n",
       "      <th>gross margin percentage</th>\n",
       "      <th>gross income</th>\n",
       "      <th>Rating</th>\n",
       "    </tr>\n",
       "  </thead>\n",
       "  <tbody>\n",
       "    <tr>\n",
       "      <th>0</th>\n",
       "      <td>750-67-8428</td>\n",
       "      <td>A</td>\n",
       "      <td>Yangon</td>\n",
       "      <td>Member</td>\n",
       "      <td>Female</td>\n",
       "      <td>Health and beauty</td>\n",
       "      <td>74.69</td>\n",
       "      <td>7</td>\n",
       "      <td>26.1415</td>\n",
       "      <td>548.9715</td>\n",
       "      <td>1/5/2019</td>\n",
       "      <td>13:08</td>\n",
       "      <td>Ewallet</td>\n",
       "      <td>522.83</td>\n",
       "      <td>4.761905</td>\n",
       "      <td>26.1415</td>\n",
       "      <td>9.1</td>\n",
       "    </tr>\n",
       "    <tr>\n",
       "      <th>1</th>\n",
       "      <td>226-31-3081</td>\n",
       "      <td>C</td>\n",
       "      <td>Naypyitaw</td>\n",
       "      <td>Normal</td>\n",
       "      <td>Female</td>\n",
       "      <td>Electronic accessories</td>\n",
       "      <td>15.28</td>\n",
       "      <td>5</td>\n",
       "      <td>3.8200</td>\n",
       "      <td>80.2200</td>\n",
       "      <td>3/8/2019</td>\n",
       "      <td>10:29</td>\n",
       "      <td>Cash</td>\n",
       "      <td>76.40</td>\n",
       "      <td>4.761905</td>\n",
       "      <td>3.8200</td>\n",
       "      <td>9.6</td>\n",
       "    </tr>\n",
       "    <tr>\n",
       "      <th>2</th>\n",
       "      <td>631-41-3108</td>\n",
       "      <td>A</td>\n",
       "      <td>Yangon</td>\n",
       "      <td>Normal</td>\n",
       "      <td>Male</td>\n",
       "      <td>Home and lifestyle</td>\n",
       "      <td>46.33</td>\n",
       "      <td>7</td>\n",
       "      <td>16.2155</td>\n",
       "      <td>340.5255</td>\n",
       "      <td>3/3/2019</td>\n",
       "      <td>13:23</td>\n",
       "      <td>Credit card</td>\n",
       "      <td>324.31</td>\n",
       "      <td>4.761905</td>\n",
       "      <td>16.2155</td>\n",
       "      <td>7.4</td>\n",
       "    </tr>\n",
       "    <tr>\n",
       "      <th>3</th>\n",
       "      <td>123-19-1176</td>\n",
       "      <td>A</td>\n",
       "      <td>Yangon</td>\n",
       "      <td>Member</td>\n",
       "      <td>Male</td>\n",
       "      <td>Health and beauty</td>\n",
       "      <td>58.22</td>\n",
       "      <td>8</td>\n",
       "      <td>23.2880</td>\n",
       "      <td>489.0480</td>\n",
       "      <td>1/27/2019</td>\n",
       "      <td>20:33</td>\n",
       "      <td>Ewallet</td>\n",
       "      <td>465.76</td>\n",
       "      <td>4.761905</td>\n",
       "      <td>23.2880</td>\n",
       "      <td>8.4</td>\n",
       "    </tr>\n",
       "    <tr>\n",
       "      <th>4</th>\n",
       "      <td>373-73-7910</td>\n",
       "      <td>A</td>\n",
       "      <td>Yangon</td>\n",
       "      <td>Normal</td>\n",
       "      <td>Male</td>\n",
       "      <td>Sports and travel</td>\n",
       "      <td>86.31</td>\n",
       "      <td>7</td>\n",
       "      <td>30.2085</td>\n",
       "      <td>634.3785</td>\n",
       "      <td>2/8/2019</td>\n",
       "      <td>10:37</td>\n",
       "      <td>Ewallet</td>\n",
       "      <td>604.17</td>\n",
       "      <td>4.761905</td>\n",
       "      <td>30.2085</td>\n",
       "      <td>5.3</td>\n",
       "    </tr>\n",
       "    <tr>\n",
       "      <th>...</th>\n",
       "      <td>...</td>\n",
       "      <td>...</td>\n",
       "      <td>...</td>\n",
       "      <td>...</td>\n",
       "      <td>...</td>\n",
       "      <td>...</td>\n",
       "      <td>...</td>\n",
       "      <td>...</td>\n",
       "      <td>...</td>\n",
       "      <td>...</td>\n",
       "      <td>...</td>\n",
       "      <td>...</td>\n",
       "      <td>...</td>\n",
       "      <td>...</td>\n",
       "      <td>...</td>\n",
       "      <td>...</td>\n",
       "      <td>...</td>\n",
       "    </tr>\n",
       "    <tr>\n",
       "      <th>995</th>\n",
       "      <td>233-67-5758</td>\n",
       "      <td>C</td>\n",
       "      <td>Naypyitaw</td>\n",
       "      <td>Normal</td>\n",
       "      <td>Male</td>\n",
       "      <td>Health and beauty</td>\n",
       "      <td>40.35</td>\n",
       "      <td>1</td>\n",
       "      <td>2.0175</td>\n",
       "      <td>42.3675</td>\n",
       "      <td>1/29/2019</td>\n",
       "      <td>13:46</td>\n",
       "      <td>Ewallet</td>\n",
       "      <td>40.35</td>\n",
       "      <td>4.761905</td>\n",
       "      <td>2.0175</td>\n",
       "      <td>6.2</td>\n",
       "    </tr>\n",
       "    <tr>\n",
       "      <th>996</th>\n",
       "      <td>303-96-2227</td>\n",
       "      <td>B</td>\n",
       "      <td>Mandalay</td>\n",
       "      <td>Normal</td>\n",
       "      <td>Female</td>\n",
       "      <td>Home and lifestyle</td>\n",
       "      <td>97.38</td>\n",
       "      <td>10</td>\n",
       "      <td>48.6900</td>\n",
       "      <td>1022.4900</td>\n",
       "      <td>3/2/2019</td>\n",
       "      <td>17:16</td>\n",
       "      <td>Ewallet</td>\n",
       "      <td>973.80</td>\n",
       "      <td>4.761905</td>\n",
       "      <td>48.6900</td>\n",
       "      <td>4.4</td>\n",
       "    </tr>\n",
       "    <tr>\n",
       "      <th>997</th>\n",
       "      <td>727-02-1313</td>\n",
       "      <td>A</td>\n",
       "      <td>Yangon</td>\n",
       "      <td>Member</td>\n",
       "      <td>Male</td>\n",
       "      <td>Food and beverages</td>\n",
       "      <td>31.84</td>\n",
       "      <td>1</td>\n",
       "      <td>1.5920</td>\n",
       "      <td>33.4320</td>\n",
       "      <td>2/9/2019</td>\n",
       "      <td>13:22</td>\n",
       "      <td>Cash</td>\n",
       "      <td>31.84</td>\n",
       "      <td>4.761905</td>\n",
       "      <td>1.5920</td>\n",
       "      <td>7.7</td>\n",
       "    </tr>\n",
       "    <tr>\n",
       "      <th>998</th>\n",
       "      <td>347-56-2442</td>\n",
       "      <td>A</td>\n",
       "      <td>Yangon</td>\n",
       "      <td>Normal</td>\n",
       "      <td>Male</td>\n",
       "      <td>Home and lifestyle</td>\n",
       "      <td>65.82</td>\n",
       "      <td>1</td>\n",
       "      <td>3.2910</td>\n",
       "      <td>69.1110</td>\n",
       "      <td>2/22/2019</td>\n",
       "      <td>15:33</td>\n",
       "      <td>Cash</td>\n",
       "      <td>65.82</td>\n",
       "      <td>4.761905</td>\n",
       "      <td>3.2910</td>\n",
       "      <td>4.1</td>\n",
       "    </tr>\n",
       "    <tr>\n",
       "      <th>999</th>\n",
       "      <td>849-09-3807</td>\n",
       "      <td>A</td>\n",
       "      <td>Yangon</td>\n",
       "      <td>Member</td>\n",
       "      <td>Female</td>\n",
       "      <td>Fashion accessories</td>\n",
       "      <td>88.34</td>\n",
       "      <td>7</td>\n",
       "      <td>30.9190</td>\n",
       "      <td>649.2990</td>\n",
       "      <td>2/18/2019</td>\n",
       "      <td>13:28</td>\n",
       "      <td>Cash</td>\n",
       "      <td>618.38</td>\n",
       "      <td>4.761905</td>\n",
       "      <td>30.9190</td>\n",
       "      <td>6.6</td>\n",
       "    </tr>\n",
       "  </tbody>\n",
       "</table>\n",
       "<p>1000 rows × 17 columns</p>\n",
       "</div>"
      ],
      "text/plain": [
       "      Invoice ID Branch       City Customer type  Gender  \\\n",
       "0    750-67-8428      A     Yangon        Member  Female   \n",
       "1    226-31-3081      C  Naypyitaw        Normal  Female   \n",
       "2    631-41-3108      A     Yangon        Normal    Male   \n",
       "3    123-19-1176      A     Yangon        Member    Male   \n",
       "4    373-73-7910      A     Yangon        Normal    Male   \n",
       "..           ...    ...        ...           ...     ...   \n",
       "995  233-67-5758      C  Naypyitaw        Normal    Male   \n",
       "996  303-96-2227      B   Mandalay        Normal  Female   \n",
       "997  727-02-1313      A     Yangon        Member    Male   \n",
       "998  347-56-2442      A     Yangon        Normal    Male   \n",
       "999  849-09-3807      A     Yangon        Member  Female   \n",
       "\n",
       "               Product line  Unit price  Quantity   Tax 5%      Total  \\\n",
       "0         Health and beauty       74.69         7  26.1415   548.9715   \n",
       "1    Electronic accessories       15.28         5   3.8200    80.2200   \n",
       "2        Home and lifestyle       46.33         7  16.2155   340.5255   \n",
       "3         Health and beauty       58.22         8  23.2880   489.0480   \n",
       "4         Sports and travel       86.31         7  30.2085   634.3785   \n",
       "..                      ...         ...       ...      ...        ...   \n",
       "995       Health and beauty       40.35         1   2.0175    42.3675   \n",
       "996      Home and lifestyle       97.38        10  48.6900  1022.4900   \n",
       "997      Food and beverages       31.84         1   1.5920    33.4320   \n",
       "998      Home and lifestyle       65.82         1   3.2910    69.1110   \n",
       "999     Fashion accessories       88.34         7  30.9190   649.2990   \n",
       "\n",
       "          Date   Time      Payment    cogs  gross margin percentage  \\\n",
       "0     1/5/2019  13:08      Ewallet  522.83                 4.761905   \n",
       "1     3/8/2019  10:29         Cash   76.40                 4.761905   \n",
       "2     3/3/2019  13:23  Credit card  324.31                 4.761905   \n",
       "3    1/27/2019  20:33      Ewallet  465.76                 4.761905   \n",
       "4     2/8/2019  10:37      Ewallet  604.17                 4.761905   \n",
       "..         ...    ...          ...     ...                      ...   \n",
       "995  1/29/2019  13:46      Ewallet   40.35                 4.761905   \n",
       "996   3/2/2019  17:16      Ewallet  973.80                 4.761905   \n",
       "997   2/9/2019  13:22         Cash   31.84                 4.761905   \n",
       "998  2/22/2019  15:33         Cash   65.82                 4.761905   \n",
       "999  2/18/2019  13:28         Cash  618.38                 4.761905   \n",
       "\n",
       "     gross income  Rating  \n",
       "0         26.1415     9.1  \n",
       "1          3.8200     9.6  \n",
       "2         16.2155     7.4  \n",
       "3         23.2880     8.4  \n",
       "4         30.2085     5.3  \n",
       "..            ...     ...  \n",
       "995        2.0175     6.2  \n",
       "996       48.6900     4.4  \n",
       "997        1.5920     7.7  \n",
       "998        3.2910     4.1  \n",
       "999       30.9190     6.6  \n",
       "\n",
       "[1000 rows x 17 columns]"
      ]
     },
     "execution_count": 3,
     "metadata": {},
     "output_type": "execute_result"
    }
   ],
   "source": [
    "df"
   ]
  },
  {
   "cell_type": "code",
   "execution_count": 4,
   "id": "e72eff53",
   "metadata": {},
   "outputs": [
    {
     "data": {
      "text/html": [
       "<div>\n",
       "<style scoped>\n",
       "    .dataframe tbody tr th:only-of-type {\n",
       "        vertical-align: middle;\n",
       "    }\n",
       "\n",
       "    .dataframe tbody tr th {\n",
       "        vertical-align: top;\n",
       "    }\n",
       "\n",
       "    .dataframe thead th {\n",
       "        text-align: right;\n",
       "    }\n",
       "</style>\n",
       "<table border=\"1\" class=\"dataframe\">\n",
       "  <thead>\n",
       "    <tr style=\"text-align: right;\">\n",
       "      <th></th>\n",
       "      <th>Invoice ID</th>\n",
       "      <th>Branch</th>\n",
       "      <th>City</th>\n",
       "      <th>Customer type</th>\n",
       "      <th>Gender</th>\n",
       "      <th>Product line</th>\n",
       "      <th>Unit price</th>\n",
       "      <th>Quantity</th>\n",
       "      <th>Tax 5%</th>\n",
       "      <th>Total</th>\n",
       "      <th>Date</th>\n",
       "      <th>Time</th>\n",
       "      <th>Payment</th>\n",
       "      <th>cogs</th>\n",
       "      <th>gross margin percentage</th>\n",
       "      <th>gross income</th>\n",
       "      <th>Rating</th>\n",
       "    </tr>\n",
       "  </thead>\n",
       "  <tbody>\n",
       "    <tr>\n",
       "      <th>237</th>\n",
       "      <td>755-12-3214</td>\n",
       "      <td>C</td>\n",
       "      <td>Naypyitaw</td>\n",
       "      <td>Member</td>\n",
       "      <td>Female</td>\n",
       "      <td>Fashion accessories</td>\n",
       "      <td>44.22</td>\n",
       "      <td>5</td>\n",
       "      <td>11.055</td>\n",
       "      <td>232.155</td>\n",
       "      <td>3/5/2019</td>\n",
       "      <td>17:07</td>\n",
       "      <td>Credit card</td>\n",
       "      <td>221.10</td>\n",
       "      <td>4.761905</td>\n",
       "      <td>11.055</td>\n",
       "      <td>8.6</td>\n",
       "    </tr>\n",
       "    <tr>\n",
       "      <th>333</th>\n",
       "      <td>442-48-3607</td>\n",
       "      <td>A</td>\n",
       "      <td>Yangon</td>\n",
       "      <td>Member</td>\n",
       "      <td>Male</td>\n",
       "      <td>Food and beverages</td>\n",
       "      <td>23.48</td>\n",
       "      <td>2</td>\n",
       "      <td>2.348</td>\n",
       "      <td>49.308</td>\n",
       "      <td>3/14/2019</td>\n",
       "      <td>11:21</td>\n",
       "      <td>Credit card</td>\n",
       "      <td>46.96</td>\n",
       "      <td>4.761905</td>\n",
       "      <td>2.348</td>\n",
       "      <td>7.9</td>\n",
       "    </tr>\n",
       "    <tr>\n",
       "      <th>825</th>\n",
       "      <td>569-76-2760</td>\n",
       "      <td>A</td>\n",
       "      <td>Yangon</td>\n",
       "      <td>Member</td>\n",
       "      <td>Female</td>\n",
       "      <td>Sports and travel</td>\n",
       "      <td>22.01</td>\n",
       "      <td>4</td>\n",
       "      <td>4.402</td>\n",
       "      <td>92.442</td>\n",
       "      <td>1/29/2019</td>\n",
       "      <td>18:15</td>\n",
       "      <td>Credit card</td>\n",
       "      <td>88.04</td>\n",
       "      <td>4.761905</td>\n",
       "      <td>4.402</td>\n",
       "      <td>6.6</td>\n",
       "    </tr>\n",
       "  </tbody>\n",
       "</table>\n",
       "</div>"
      ],
      "text/plain": [
       "      Invoice ID Branch       City Customer type  Gender         Product line  \\\n",
       "237  755-12-3214      C  Naypyitaw        Member  Female  Fashion accessories   \n",
       "333  442-48-3607      A     Yangon        Member    Male   Food and beverages   \n",
       "825  569-76-2760      A     Yangon        Member  Female    Sports and travel   \n",
       "\n",
       "     Unit price  Quantity  Tax 5%    Total       Date   Time      Payment  \\\n",
       "237       44.22         5  11.055  232.155   3/5/2019  17:07  Credit card   \n",
       "333       23.48         2   2.348   49.308  3/14/2019  11:21  Credit card   \n",
       "825       22.01         4   4.402   92.442  1/29/2019  18:15  Credit card   \n",
       "\n",
       "       cogs  gross margin percentage  gross income  Rating  \n",
       "237  221.10                 4.761905        11.055     8.6  \n",
       "333   46.96                 4.761905         2.348     7.9  \n",
       "825   88.04                 4.761905         4.402     6.6  "
      ]
     },
     "execution_count": 4,
     "metadata": {},
     "output_type": "execute_result"
    }
   ],
   "source": [
    "df.sample(3)"
   ]
  },
  {
   "cell_type": "code",
   "execution_count": 5,
   "id": "0b2a9090",
   "metadata": {},
   "outputs": [
    {
     "data": {
      "text/plain": [
       "(1000, 17)"
      ]
     },
     "execution_count": 5,
     "metadata": {},
     "output_type": "execute_result"
    }
   ],
   "source": [
    "df.shape"
   ]
  },
  {
   "cell_type": "code",
   "execution_count": 6,
   "id": "d3e8b6a8",
   "metadata": {},
   "outputs": [
    {
     "data": {
      "text/plain": [
       "Index(['Invoice ID', 'Branch', 'City', 'Customer type', 'Gender',\n",
       "       'Product line', 'Unit price', 'Quantity', 'Tax 5%', 'Total', 'Date',\n",
       "       'Time', 'Payment', 'cogs', 'gross margin percentage', 'gross income',\n",
       "       'Rating'],\n",
       "      dtype='object')"
      ]
     },
     "execution_count": 6,
     "metadata": {},
     "output_type": "execute_result"
    }
   ],
   "source": [
    "df.columns"
   ]
  },
  {
   "cell_type": "markdown",
   "id": "c4e88b64",
   "metadata": {},
   "source": [
    "##### - Column Description\n",
    "\n",
    "- Invoice id: Computer generated sales slip invoice identification number\n",
    "\n",
    "- Branch: Branch of supercenter (3 branches are available identified by A, B and C).\n",
    "\n",
    "- City: Location of supercenters\n",
    "\n",
    "- Customer type: Type of customers, recorded by Members for customers using member card and Normal for without member card.\n",
    "\n",
    "- Gender: Gender type of customer\n",
    "\n",
    "- Product line: General item categorization groups - Electronic accessories, Fashion accessories, Food and beverages, Health and beauty, Home and lifestyle, Sports and travel\n",
    "- Unit price: Price of each product in $\n",
    "\n",
    "- Quantity: Number of products purchased by customer\n",
    "\n",
    "- Tax: 5% tax fee for customer buying\n",
    "\n",
    "- Total: Total price including tax\n",
    "\n",
    "- Date: Date of purchase (Record available from January 2019 to March 2019)\n",
    "\n",
    "- Time: Purchase time (10am to 9pm)\n",
    "\n",
    "- Payment: Payment used by customer for purchase (3 methods are available – Cash, Credit card and Ewallet)\n",
    "\n",
    "- COGS: Cost of goods sold\n",
    "\n",
    "- Gross margin percentage: Gross margin percentage\n",
    "- Gross income: Gross income\n",
    "\n",
    "- Rating: Customer stratification rating on their overall shopping experience (On a scale of 1 to 10)\n",
    "\n",
    "\n",
    "\n",
    "\n"
   ]
  },
  {
   "cell_type": "code",
   "execution_count": 7,
   "id": "ec3b8d72",
   "metadata": {},
   "outputs": [
    {
     "name": "stdout",
     "output_type": "stream",
     "text": [
      "<class 'pandas.core.frame.DataFrame'>\n",
      "RangeIndex: 1000 entries, 0 to 999\n",
      "Data columns (total 17 columns):\n",
      " #   Column                   Non-Null Count  Dtype  \n",
      "---  ------                   --------------  -----  \n",
      " 0   Invoice ID               1000 non-null   object \n",
      " 1   Branch                   1000 non-null   object \n",
      " 2   City                     1000 non-null   object \n",
      " 3   Customer type            1000 non-null   object \n",
      " 4   Gender                   1000 non-null   object \n",
      " 5   Product line             1000 non-null   object \n",
      " 6   Unit price               1000 non-null   float64\n",
      " 7   Quantity                 1000 non-null   int64  \n",
      " 8   Tax 5%                   1000 non-null   float64\n",
      " 9   Total                    1000 non-null   float64\n",
      " 10  Date                     1000 non-null   object \n",
      " 11  Time                     1000 non-null   object \n",
      " 12  Payment                  1000 non-null   object \n",
      " 13  cogs                     1000 non-null   float64\n",
      " 14  gross margin percentage  1000 non-null   float64\n",
      " 15  gross income             1000 non-null   float64\n",
      " 16  Rating                   1000 non-null   float64\n",
      "dtypes: float64(7), int64(1), object(9)\n",
      "memory usage: 132.9+ KB\n"
     ]
    }
   ],
   "source": [
    "df.info()"
   ]
  },
  {
   "cell_type": "markdown",
   "id": "84538ce6",
   "metadata": {},
   "source": [
    "# preprocessing"
   ]
  },
  {
   "cell_type": "code",
   "execution_count": 8,
   "id": "2a279ef5",
   "metadata": {},
   "outputs": [
    {
     "data": {
      "text/html": [
       "<div>\n",
       "<style scoped>\n",
       "    .dataframe tbody tr th:only-of-type {\n",
       "        vertical-align: middle;\n",
       "    }\n",
       "\n",
       "    .dataframe tbody tr th {\n",
       "        vertical-align: top;\n",
       "    }\n",
       "\n",
       "    .dataframe thead th {\n",
       "        text-align: right;\n",
       "    }\n",
       "</style>\n",
       "<table border=\"1\" class=\"dataframe\">\n",
       "  <thead>\n",
       "    <tr style=\"text-align: right;\">\n",
       "      <th></th>\n",
       "      <th>Invoice ID</th>\n",
       "      <th>Branch</th>\n",
       "      <th>City</th>\n",
       "      <th>Customer type</th>\n",
       "      <th>Gender</th>\n",
       "      <th>Product line</th>\n",
       "      <th>Unit price</th>\n",
       "      <th>Quantity</th>\n",
       "      <th>Tax 5%</th>\n",
       "      <th>Total</th>\n",
       "      <th>Date</th>\n",
       "      <th>Time</th>\n",
       "      <th>Payment</th>\n",
       "      <th>cogs</th>\n",
       "      <th>gross margin percentage</th>\n",
       "      <th>gross income</th>\n",
       "      <th>Rating</th>\n",
       "    </tr>\n",
       "  </thead>\n",
       "  <tbody>\n",
       "    <tr>\n",
       "      <th>missing values</th>\n",
       "      <td>0</td>\n",
       "      <td>0</td>\n",
       "      <td>0</td>\n",
       "      <td>0</td>\n",
       "      <td>0</td>\n",
       "      <td>0</td>\n",
       "      <td>0</td>\n",
       "      <td>0</td>\n",
       "      <td>0</td>\n",
       "      <td>0</td>\n",
       "      <td>0</td>\n",
       "      <td>0</td>\n",
       "      <td>0</td>\n",
       "      <td>0</td>\n",
       "      <td>0</td>\n",
       "      <td>0</td>\n",
       "      <td>0</td>\n",
       "    </tr>\n",
       "  </tbody>\n",
       "</table>\n",
       "</div>"
      ],
      "text/plain": [
       "                Invoice ID  Branch  City  Customer type  Gender  Product line  \\\n",
       "missing values           0       0     0              0       0             0   \n",
       "\n",
       "                Unit price  Quantity  Tax 5%  Total  Date  Time  Payment  \\\n",
       "missing values           0         0       0      0     0     0        0   \n",
       "\n",
       "                cogs  gross margin percentage  gross income  Rating  \n",
       "missing values     0                        0             0       0  "
      ]
     },
     "execution_count": 8,
     "metadata": {},
     "output_type": "execute_result"
    }
   ],
   "source": [
    "df.isnull().sum().to_frame().rename(columns={0:'missing values' }).T"
   ]
  },
  {
   "cell_type": "markdown",
   "id": "bff3642a",
   "metadata": {},
   "source": [
    "# checking the inconsistency"
   ]
  },
  {
   "cell_type": "code",
   "execution_count": 9,
   "id": "006f9cd7",
   "metadata": {},
   "outputs": [
    {
     "name": "stdout",
     "output_type": "stream",
     "text": [
      "<bound method Series.unique of 0      750-67-8428\n",
      "1      226-31-3081\n",
      "2      631-41-3108\n",
      "3      123-19-1176\n",
      "4      373-73-7910\n",
      "          ...     \n",
      "995    233-67-5758\n",
      "996    303-96-2227\n",
      "997    727-02-1313\n",
      "998    347-56-2442\n",
      "999    849-09-3807\n",
      "Name: Invoice ID, Length: 1000, dtype: object>\n",
      "<bound method Series.unique of 0      A\n",
      "1      C\n",
      "2      A\n",
      "3      A\n",
      "4      A\n",
      "      ..\n",
      "995    C\n",
      "996    B\n",
      "997    A\n",
      "998    A\n",
      "999    A\n",
      "Name: Branch, Length: 1000, dtype: object>\n",
      "<bound method Series.unique of 0         Yangon\n",
      "1      Naypyitaw\n",
      "2         Yangon\n",
      "3         Yangon\n",
      "4         Yangon\n",
      "         ...    \n",
      "995    Naypyitaw\n",
      "996     Mandalay\n",
      "997       Yangon\n",
      "998       Yangon\n",
      "999       Yangon\n",
      "Name: City, Length: 1000, dtype: object>\n",
      "<bound method Series.unique of 0      Member\n",
      "1      Normal\n",
      "2      Normal\n",
      "3      Member\n",
      "4      Normal\n",
      "        ...  \n",
      "995    Normal\n",
      "996    Normal\n",
      "997    Member\n",
      "998    Normal\n",
      "999    Member\n",
      "Name: Customer type, Length: 1000, dtype: object>\n",
      "<bound method Series.unique of 0      Female\n",
      "1      Female\n",
      "2        Male\n",
      "3        Male\n",
      "4        Male\n",
      "        ...  \n",
      "995      Male\n",
      "996    Female\n",
      "997      Male\n",
      "998      Male\n",
      "999    Female\n",
      "Name: Gender, Length: 1000, dtype: object>\n",
      "<bound method Series.unique of 0           Health and beauty\n",
      "1      Electronic accessories\n",
      "2          Home and lifestyle\n",
      "3           Health and beauty\n",
      "4           Sports and travel\n",
      "                ...          \n",
      "995         Health and beauty\n",
      "996        Home and lifestyle\n",
      "997        Food and beverages\n",
      "998        Home and lifestyle\n",
      "999       Fashion accessories\n",
      "Name: Product line, Length: 1000, dtype: object>\n",
      "<bound method Series.unique of 0      74.69\n",
      "1      15.28\n",
      "2      46.33\n",
      "3      58.22\n",
      "4      86.31\n",
      "       ...  \n",
      "995    40.35\n",
      "996    97.38\n",
      "997    31.84\n",
      "998    65.82\n",
      "999    88.34\n",
      "Name: Unit price, Length: 1000, dtype: float64>\n",
      "<bound method Series.unique of 0       7\n",
      "1       5\n",
      "2       7\n",
      "3       8\n",
      "4       7\n",
      "       ..\n",
      "995     1\n",
      "996    10\n",
      "997     1\n",
      "998     1\n",
      "999     7\n",
      "Name: Quantity, Length: 1000, dtype: int64>\n",
      "<bound method Series.unique of 0      26.1415\n",
      "1       3.8200\n",
      "2      16.2155\n",
      "3      23.2880\n",
      "4      30.2085\n",
      "        ...   \n",
      "995     2.0175\n",
      "996    48.6900\n",
      "997     1.5920\n",
      "998     3.2910\n",
      "999    30.9190\n",
      "Name: Tax 5%, Length: 1000, dtype: float64>\n",
      "<bound method Series.unique of 0       548.9715\n",
      "1        80.2200\n",
      "2       340.5255\n",
      "3       489.0480\n",
      "4       634.3785\n",
      "         ...    \n",
      "995      42.3675\n",
      "996    1022.4900\n",
      "997      33.4320\n",
      "998      69.1110\n",
      "999     649.2990\n",
      "Name: Total, Length: 1000, dtype: float64>\n",
      "<bound method Series.unique of 0       1/5/2019\n",
      "1       3/8/2019\n",
      "2       3/3/2019\n",
      "3      1/27/2019\n",
      "4       2/8/2019\n",
      "         ...    \n",
      "995    1/29/2019\n",
      "996     3/2/2019\n",
      "997     2/9/2019\n",
      "998    2/22/2019\n",
      "999    2/18/2019\n",
      "Name: Date, Length: 1000, dtype: object>\n",
      "<bound method Series.unique of 0      13:08\n",
      "1      10:29\n",
      "2      13:23\n",
      "3      20:33\n",
      "4      10:37\n",
      "       ...  \n",
      "995    13:46\n",
      "996    17:16\n",
      "997    13:22\n",
      "998    15:33\n",
      "999    13:28\n",
      "Name: Time, Length: 1000, dtype: object>\n",
      "<bound method Series.unique of 0          Ewallet\n",
      "1             Cash\n",
      "2      Credit card\n",
      "3          Ewallet\n",
      "4          Ewallet\n",
      "          ...     \n",
      "995        Ewallet\n",
      "996        Ewallet\n",
      "997           Cash\n",
      "998           Cash\n",
      "999           Cash\n",
      "Name: Payment, Length: 1000, dtype: object>\n",
      "<bound method Series.unique of 0      522.83\n",
      "1       76.40\n",
      "2      324.31\n",
      "3      465.76\n",
      "4      604.17\n",
      "        ...  \n",
      "995     40.35\n",
      "996    973.80\n",
      "997     31.84\n",
      "998     65.82\n",
      "999    618.38\n",
      "Name: cogs, Length: 1000, dtype: float64>\n",
      "<bound method Series.unique of 0      4.761905\n",
      "1      4.761905\n",
      "2      4.761905\n",
      "3      4.761905\n",
      "4      4.761905\n",
      "         ...   \n",
      "995    4.761905\n",
      "996    4.761905\n",
      "997    4.761905\n",
      "998    4.761905\n",
      "999    4.761905\n",
      "Name: gross margin percentage, Length: 1000, dtype: float64>\n",
      "<bound method Series.unique of 0      26.1415\n",
      "1       3.8200\n",
      "2      16.2155\n",
      "3      23.2880\n",
      "4      30.2085\n",
      "        ...   \n",
      "995     2.0175\n",
      "996    48.6900\n",
      "997     1.5920\n",
      "998     3.2910\n",
      "999    30.9190\n",
      "Name: gross income, Length: 1000, dtype: float64>\n",
      "<bound method Series.unique of 0      9.1\n",
      "1      9.6\n",
      "2      7.4\n",
      "3      8.4\n",
      "4      5.3\n",
      "      ... \n",
      "995    6.2\n",
      "996    4.4\n",
      "997    7.7\n",
      "998    4.1\n",
      "999    6.6\n",
      "Name: Rating, Length: 1000, dtype: float64>\n"
     ]
    }
   ],
   "source": [
    "for i in df.columns:\n",
    "    print(df[i].unique)\n"
   ]
  },
  {
   "cell_type": "code",
   "execution_count": 10,
   "id": "e22b03a6",
   "metadata": {},
   "outputs": [],
   "source": [
    "df_obj=df.select_dtypes(include='object')"
   ]
  },
  {
   "cell_type": "code",
   "execution_count": 11,
   "id": "b9b92d4d",
   "metadata": {},
   "outputs": [
    {
     "data": {
      "text/html": [
       "<div>\n",
       "<style scoped>\n",
       "    .dataframe tbody tr th:only-of-type {\n",
       "        vertical-align: middle;\n",
       "    }\n",
       "\n",
       "    .dataframe tbody tr th {\n",
       "        vertical-align: top;\n",
       "    }\n",
       "\n",
       "    .dataframe thead th {\n",
       "        text-align: right;\n",
       "    }\n",
       "</style>\n",
       "<table border=\"1\" class=\"dataframe\">\n",
       "  <thead>\n",
       "    <tr style=\"text-align: right;\">\n",
       "      <th></th>\n",
       "      <th>Invoice ID</th>\n",
       "      <th>Branch</th>\n",
       "      <th>City</th>\n",
       "      <th>Customer type</th>\n",
       "      <th>Gender</th>\n",
       "      <th>Product line</th>\n",
       "      <th>Date</th>\n",
       "      <th>Time</th>\n",
       "      <th>Payment</th>\n",
       "    </tr>\n",
       "  </thead>\n",
       "  <tbody>\n",
       "    <tr>\n",
       "      <th>0</th>\n",
       "      <td>750-67-8428</td>\n",
       "      <td>A</td>\n",
       "      <td>Yangon</td>\n",
       "      <td>Member</td>\n",
       "      <td>Female</td>\n",
       "      <td>Health and beauty</td>\n",
       "      <td>1/5/2019</td>\n",
       "      <td>13:08</td>\n",
       "      <td>Ewallet</td>\n",
       "    </tr>\n",
       "    <tr>\n",
       "      <th>1</th>\n",
       "      <td>226-31-3081</td>\n",
       "      <td>C</td>\n",
       "      <td>Naypyitaw</td>\n",
       "      <td>Normal</td>\n",
       "      <td>Female</td>\n",
       "      <td>Electronic accessories</td>\n",
       "      <td>3/8/2019</td>\n",
       "      <td>10:29</td>\n",
       "      <td>Cash</td>\n",
       "    </tr>\n",
       "    <tr>\n",
       "      <th>2</th>\n",
       "      <td>631-41-3108</td>\n",
       "      <td>A</td>\n",
       "      <td>Yangon</td>\n",
       "      <td>Normal</td>\n",
       "      <td>Male</td>\n",
       "      <td>Home and lifestyle</td>\n",
       "      <td>3/3/2019</td>\n",
       "      <td>13:23</td>\n",
       "      <td>Credit card</td>\n",
       "    </tr>\n",
       "    <tr>\n",
       "      <th>3</th>\n",
       "      <td>123-19-1176</td>\n",
       "      <td>A</td>\n",
       "      <td>Yangon</td>\n",
       "      <td>Member</td>\n",
       "      <td>Male</td>\n",
       "      <td>Health and beauty</td>\n",
       "      <td>1/27/2019</td>\n",
       "      <td>20:33</td>\n",
       "      <td>Ewallet</td>\n",
       "    </tr>\n",
       "    <tr>\n",
       "      <th>4</th>\n",
       "      <td>373-73-7910</td>\n",
       "      <td>A</td>\n",
       "      <td>Yangon</td>\n",
       "      <td>Normal</td>\n",
       "      <td>Male</td>\n",
       "      <td>Sports and travel</td>\n",
       "      <td>2/8/2019</td>\n",
       "      <td>10:37</td>\n",
       "      <td>Ewallet</td>\n",
       "    </tr>\n",
       "    <tr>\n",
       "      <th>...</th>\n",
       "      <td>...</td>\n",
       "      <td>...</td>\n",
       "      <td>...</td>\n",
       "      <td>...</td>\n",
       "      <td>...</td>\n",
       "      <td>...</td>\n",
       "      <td>...</td>\n",
       "      <td>...</td>\n",
       "      <td>...</td>\n",
       "    </tr>\n",
       "    <tr>\n",
       "      <th>995</th>\n",
       "      <td>233-67-5758</td>\n",
       "      <td>C</td>\n",
       "      <td>Naypyitaw</td>\n",
       "      <td>Normal</td>\n",
       "      <td>Male</td>\n",
       "      <td>Health and beauty</td>\n",
       "      <td>1/29/2019</td>\n",
       "      <td>13:46</td>\n",
       "      <td>Ewallet</td>\n",
       "    </tr>\n",
       "    <tr>\n",
       "      <th>996</th>\n",
       "      <td>303-96-2227</td>\n",
       "      <td>B</td>\n",
       "      <td>Mandalay</td>\n",
       "      <td>Normal</td>\n",
       "      <td>Female</td>\n",
       "      <td>Home and lifestyle</td>\n",
       "      <td>3/2/2019</td>\n",
       "      <td>17:16</td>\n",
       "      <td>Ewallet</td>\n",
       "    </tr>\n",
       "    <tr>\n",
       "      <th>997</th>\n",
       "      <td>727-02-1313</td>\n",
       "      <td>A</td>\n",
       "      <td>Yangon</td>\n",
       "      <td>Member</td>\n",
       "      <td>Male</td>\n",
       "      <td>Food and beverages</td>\n",
       "      <td>2/9/2019</td>\n",
       "      <td>13:22</td>\n",
       "      <td>Cash</td>\n",
       "    </tr>\n",
       "    <tr>\n",
       "      <th>998</th>\n",
       "      <td>347-56-2442</td>\n",
       "      <td>A</td>\n",
       "      <td>Yangon</td>\n",
       "      <td>Normal</td>\n",
       "      <td>Male</td>\n",
       "      <td>Home and lifestyle</td>\n",
       "      <td>2/22/2019</td>\n",
       "      <td>15:33</td>\n",
       "      <td>Cash</td>\n",
       "    </tr>\n",
       "    <tr>\n",
       "      <th>999</th>\n",
       "      <td>849-09-3807</td>\n",
       "      <td>A</td>\n",
       "      <td>Yangon</td>\n",
       "      <td>Member</td>\n",
       "      <td>Female</td>\n",
       "      <td>Fashion accessories</td>\n",
       "      <td>2/18/2019</td>\n",
       "      <td>13:28</td>\n",
       "      <td>Cash</td>\n",
       "    </tr>\n",
       "  </tbody>\n",
       "</table>\n",
       "<p>1000 rows × 9 columns</p>\n",
       "</div>"
      ],
      "text/plain": [
       "      Invoice ID Branch       City Customer type  Gender  \\\n",
       "0    750-67-8428      A     Yangon        Member  Female   \n",
       "1    226-31-3081      C  Naypyitaw        Normal  Female   \n",
       "2    631-41-3108      A     Yangon        Normal    Male   \n",
       "3    123-19-1176      A     Yangon        Member    Male   \n",
       "4    373-73-7910      A     Yangon        Normal    Male   \n",
       "..           ...    ...        ...           ...     ...   \n",
       "995  233-67-5758      C  Naypyitaw        Normal    Male   \n",
       "996  303-96-2227      B   Mandalay        Normal  Female   \n",
       "997  727-02-1313      A     Yangon        Member    Male   \n",
       "998  347-56-2442      A     Yangon        Normal    Male   \n",
       "999  849-09-3807      A     Yangon        Member  Female   \n",
       "\n",
       "               Product line       Date   Time      Payment  \n",
       "0         Health and beauty   1/5/2019  13:08      Ewallet  \n",
       "1    Electronic accessories   3/8/2019  10:29         Cash  \n",
       "2        Home and lifestyle   3/3/2019  13:23  Credit card  \n",
       "3         Health and beauty  1/27/2019  20:33      Ewallet  \n",
       "4         Sports and travel   2/8/2019  10:37      Ewallet  \n",
       "..                      ...        ...    ...          ...  \n",
       "995       Health and beauty  1/29/2019  13:46      Ewallet  \n",
       "996      Home and lifestyle   3/2/2019  17:16      Ewallet  \n",
       "997      Food and beverages   2/9/2019  13:22         Cash  \n",
       "998      Home and lifestyle  2/22/2019  15:33         Cash  \n",
       "999     Fashion accessories  2/18/2019  13:28         Cash  \n",
       "\n",
       "[1000 rows x 9 columns]"
      ]
     },
     "execution_count": 11,
     "metadata": {},
     "output_type": "execute_result"
    }
   ],
   "source": [
    "df_obj"
   ]
  },
  {
   "cell_type": "code",
   "execution_count": 12,
   "id": "bcb737a5",
   "metadata": {},
   "outputs": [
    {
     "ename": "SyntaxError",
     "evalue": "invalid decimal literal (4052190225.py, line 2)",
     "output_type": "error",
     "traceback": [
      "\u001b[1;36m  Cell \u001b[1;32mIn[12], line 2\u001b[1;36m\u001b[0m\n\u001b[1;33m    print(df_obj[i]-*8.unique())\u001b[0m\n\u001b[1;37m                      ^\u001b[0m\n\u001b[1;31mSyntaxError\u001b[0m\u001b[1;31m:\u001b[0m invalid decimal literal\n"
     ]
    }
   ],
   "source": [
    "for i in df_obj.columns:\n",
    "    print(df_obj[i]-*8.unique())\n"
   ]
  },
  {
   "cell_type": "code",
   "execution_count": null,
   "id": "a2c8239a",
   "metadata": {},
   "outputs": [],
   "source": [
    "df_numeric=df.select_dtypes(excludes='object')\n"
   ]
  },
  {
   "cell_type": "code",
   "execution_count": null,
   "id": "afe0ccb5",
   "metadata": {},
   "outputs": [],
   "source": [
    "df.duplicated()"
   ]
  },
  {
   "cell_type": "code",
   "execution_count": null,
   "id": "d05e6e18",
   "metadata": {},
   "outputs": [],
   "source": [
    "df['Date']=pd.to_datetime(df['Date'])\n",
    "df['Time']=pd.to_datetime(df['Time'])\n"
   ]
  },
  {
   "cell_type": "code",
   "execution_count": null,
   "id": "1844262e",
   "metadata": {},
   "outputs": [],
   "source": [
    "df.dtypes"
   ]
  },
  {
   "cell_type": "code",
   "execution_count": null,
   "id": "647cb662",
   "metadata": {},
   "outputs": [],
   "source": [
    "from datetime import datetime as t"
   ]
  },
  {
   "cell_type": "code",
   "execution_count": null,
   "id": "2822c7fd",
   "metadata": {},
   "outputs": [],
   "source": [
    "df[\"month\"]=df.Date.dt.month_name()\n",
    "df[\"day_name\"]=df.Date.dt.day_name()\n",
    "df[\"day\"]=df.Date.t.day\n",
    "df[\"year\"]=df.Date.t.year\n",
    "df[\"Hour\"]=df.Time.t.Hour\n",
    "\n",
    "\n"
   ]
  },
  {
   "cell_type": "code",
   "execution_count": null,
   "id": "932591b7",
   "metadata": {},
   "outputs": [],
   "source": [
    "df.columns"
   ]
  },
  {
   "cell_type": "code",
   "execution_count": null,
   "id": "1644a124",
   "metadata": {},
   "outputs": [],
   "source": [
    "df.head(2)"
   ]
  },
  {
   "cell_type": "code",
   "execution_count": null,
   "id": "991964b0",
   "metadata": {},
   "outputs": [],
   "source": [
    "df.drop(columns=['Invoice ID','Branch'],inplace=True)"
   ]
  },
  {
   "cell_type": "code",
   "execution_count": null,
   "id": "c58a5984",
   "metadata": {},
   "outputs": [],
   "source": [
    "df.head(2)"
   ]
  },
  {
   "cell_type": "code",
   "execution_count": null,
   "id": "f196bf93",
   "metadata": {},
   "outputs": [],
   "source": [
    "df.describe().T"
   ]
  },
  {
   "cell_type": "code",
   "execution_count": null,
   "id": "2fb78cc0",
   "metadata": {},
   "outputs": [],
   "source": [
    "cols=df.describe().T.index[:-3]"
   ]
  },
  {
   "cell_type": "code",
   "execution_count": null,
   "id": "d36ea68d",
   "metadata": {},
   "outputs": [],
   "source": [
    "pos=1\n",
    "p.figure(figsize=(15,10))\n",
    "for col in cols:\n",
    "    p.subplot(2,4,pos)\n",
    "    sb.boxplot(x='col',data=df)\n",
    "    p.title(col)\n",
    "    pos=pos+1"
   ]
  },
  {
   "cell_type": "code",
   "execution_count": null,
   "id": "a81ba034",
   "metadata": {},
   "outputs": [],
   "source": [
    "df_numeric.corr()"
   ]
  },
  {
   "cell_type": "code",
   "execution_count": null,
   "id": "4937e3e9",
   "metadata": {},
   "outputs": [],
   "source": [
    "df"
   ]
  },
  {
   "cell_type": "code",
   "execution_count": null,
   "id": "581c8110",
   "metadata": {},
   "outputs": [],
   "source": []
  },
  {
   "cell_type": "code",
   "execution_count": null,
   "id": "17a20cfc",
   "metadata": {},
   "outputs": [],
   "source": [
    "df.columns"
   ]
  },
  {
   "cell_type": "code",
   "execution_count": null,
   "id": "3abfaa60",
   "metadata": {},
   "outputs": [],
   "source": [
    "df.drop(columns=['Tax 5%','cogs','gross income'])"
   ]
  },
  {
   "cell_type": "markdown",
   "id": "0806cf1d",
   "metadata": {},
   "source": [
    "# total and avg sale of company"
   ]
  },
  {
   "cell_type": "code",
   "execution_count": null,
   "id": "585f3a50",
   "metadata": {},
   "outputs": [],
   "source": [
    "df['Total'].agg(['sum','mean'])"
   ]
  },
  {
   "cell_type": "code",
   "execution_count": null,
   "id": "f139031c",
   "metadata": {},
   "outputs": [],
   "source": [
    "p.figure(figsize=(10,4),facecolor='pink')\n",
    "p.subplot(1,2,1)\n",
    "sb.distplot(df['Total'])\n",
    "p.title('total sale distibution',color='brown',fontsize=12)\n",
    "p.subplot(1,2,2)\n",
    "sb.boxplot(df['Total'])\n",
    "p.title('outliers detection analysis',fontsize=12,color='brown');\n",
    "p.show()"
   ]
  },
  {
   "cell_type": "markdown",
   "id": "417b773c",
   "metadata": {},
   "source": [
    "# which city is found to be a more crowded"
   ]
  },
  {
   "cell_type": "code",
   "execution_count": null,
   "id": "7a48a7fc",
   "metadata": {},
   "outputs": [],
   "source": [
    "sb.countplot(x='City',data=df,palette='Set2')\n",
    "p.title('crowded city')"
   ]
  },
  {
   "cell_type": "markdown",
   "id": "dbf649cc",
   "metadata": {},
   "source": [
    "# total and avg sale of each city"
   ]
  },
  {
   "cell_type": "code",
   "execution_count": null,
   "id": "c7ce4840",
   "metadata": {},
   "outputs": [],
   "source": [
    "p.figure(figsize=(12,5))\n",
    "p.subplot(1,2,1)\n",
    "sb.barplot(x=\"City\",y=\"Total\",data=df,palette=\"Set2\")\n",
    "p.yticks([0,50,100,150,200,250,300,350],[\"0 $\",\"50 $\",\"100 $\",\"150 $\",\"200 $\",\"250 $\",\"300 $\",\"350 $\"])\n",
    "p.title(\"Average sale of each city \",fontsize=15,color=\"brown\",fontweight=\"bold\")\n",
    "p.subplot(1,2,2)\n",
    "sb.barplot(x=\"City\",y=\"Total\",data=df,estimator=sum,palette=\"Set2\")\n",
    "p.title(\"Total sale of each city \",fontsize=15,color=\"brown\",fontweight=\"bold\");\n",
    "\n",
    "\n"
   ]
  },
  {
   "cell_type": "markdown",
   "id": "8062b532",
   "metadata": {},
   "source": [
    "# since the napyitaw is the hot selling city so we find the detail of napyitaw in "
   ]
  },
  {
   "cell_type": "code",
   "execution_count": null,
   "id": "3ae201ff",
   "metadata": {},
   "outputs": [],
   "source": [
    "df_n=df[df[\"City\"]==\"Naypyitaw\"]\n",
    "df_n[df_n[\"Total\"]==df_n[\"Total\"].max()]\n",
    "\n",
    "\n"
   ]
  },
  {
   "cell_type": "code",
   "execution_count": null,
   "id": "471399e8",
   "metadata": {},
   "outputs": [],
   "source": [
    "df_n=df[df[\"City\"]==\"Naypyitaw\"]\n",
    "df_n[df_n[\"Total\"]==df_n[\"Total\"].min()]\n",
    "\n",
    "\n"
   ]
  },
  {
   "cell_type": "markdown",
   "id": "61e90c26",
   "metadata": {},
   "source": [
    "# root cause analysis of hot selling city"
   ]
  },
  {
   "cell_type": "code",
   "execution_count": null,
   "id": "d7c0b1ea",
   "metadata": {},
   "outputs": [],
   "source": [
    "sb.countplot(x='City',data=df,hue='Customer type')"
   ]
  },
  {
   "cell_type": "markdown",
   "id": "251ab5d7",
   "metadata": {},
   "source": [
    "# rating"
   ]
  },
  {
   "cell_type": "code",
   "execution_count": null,
   "id": "8b6029f2",
   "metadata": {},
   "outputs": [],
   "source": [
    "sb.barplot(x='City',y='Rating',data=df)"
   ]
  },
  {
   "cell_type": "markdown",
   "id": "8548e2a6",
   "metadata": {},
   "source": [
    "# sale trend of company over the three months"
   ]
  },
  {
   "cell_type": "code",
   "execution_count": null,
   "id": "26b3aa7c",
   "metadata": {},
   "outputs": [],
   "source": [
    "p.figure(figsize=(15,5))\n",
    "sb.relplot(x=\"Date\",y=\"Total\",data=df,kind=\"line\",color=\"purple\",estimator=sum,ci=False)\n",
    "p.xlabel(\"date\")\n",
    "p.title(\" Company Sale trend over the  3 months \",fontsize=10,color=\"red\",fontweight=\"bold\")\n",
    "p.xticks(rotation=90);\n",
    "\n",
    "\n"
   ]
  },
  {
   "cell_type": "markdown",
   "id": "f49e597d",
   "metadata": {},
   "source": [
    "# sale trend of each city"
   ]
  },
  {
   "cell_type": "code",
   "execution_count": null,
   "id": "de495e75",
   "metadata": {},
   "outputs": [],
   "source": [
    "df_n=df[df[\"City\"]==\"Naypyitaw\"]\n",
    "df_y=df[df[\"City\"]==\"Yangon\"]\n",
    "df_m=df[df[\"City\"]==\"Mandalay\"]\n",
    "\n",
    "\n"
   ]
  },
  {
   "cell_type": "code",
   "execution_count": null,
   "id": "1e294ee2",
   "metadata": {},
   "outputs": [],
   "source": [
    "cities=[df_y,df_n,df_m]\n",
    "\n"
   ]
  },
  {
   "cell_type": "code",
   "execution_count": null,
   "id": "16685a8d",
   "metadata": {},
   "outputs": [],
   "source": [
    "city_name=[\"Yangon\", 'Naypyitaw', 'Mandalay']\n",
    "pos=1\n",
    "p.figure(figsize=(14,5))\n",
    "for city in cities:\n",
    "    #print(city)\n",
    "    p.subplot(1,3,pos)\n",
    "    sb.lineplot(x=\"Date\",y=\"Total\",data=city,estimator=sum,ci=False)\n",
    "    p.title(f\"the trend of city {city_name[pos-1]}\")\n",
    "    p.xticks(rotation=90)\n",
    "    pos=pos+1\n",
    "    \n",
    "\n"
   ]
  },
  {
   "cell_type": "markdown",
   "id": "beb89fd9",
   "metadata": {},
   "source": [
    "# find the highest business revenue month of the compnay"
   ]
  },
  {
   "cell_type": "code",
   "execution_count": null,
   "id": "c749b98a",
   "metadata": {},
   "outputs": [],
   "source": [
    "sb.barplot(x=\"month\",y=\"Total\",data=df,estimator=sum,palette=\"Set2\");\n",
    "\n"
   ]
  },
  {
   "cell_type": "markdown",
   "id": "94276ba5",
   "metadata": {},
   "source": [
    "# business revenue in %age of each month"
   ]
  },
  {
   "cell_type": "code",
   "execution_count": null,
   "id": "0ed14088",
   "metadata": {},
   "outputs": [],
   "source": [
    "df.groupby([\"month\"])[\"Total\"].agg([\"sum\"])\n",
    "\n",
    "\n",
    "\n"
   ]
  },
  {
   "cell_type": "code",
   "execution_count": null,
   "id": "921182f9",
   "metadata": {},
   "outputs": [],
   "source": [
    "df.columns"
   ]
  },
  {
   "cell_type": "markdown",
   "id": "5ac2966e",
   "metadata": {},
   "source": [
    "# find the highest business revenue month of the city"
   ]
  },
  {
   "cell_type": "markdown",
   "id": "f950371d",
   "metadata": {},
   "source": [
    "# customer visiting trend of each branch"
   ]
  },
  {
   "cell_type": "markdown",
   "id": "480dfa56",
   "metadata": {},
   "source": [
    "# hot selling day of the comapny"
   ]
  },
  {
   "cell_type": "markdown",
   "id": "d1d94b30",
   "metadata": {},
   "source": [
    "# hot selling day of each city"
   ]
  },
  {
   "cell_type": "markdown",
   "id": "8fe7c4fd",
   "metadata": {},
   "source": [
    "# find the total weekend and weekday sale of each company"
   ]
  },
  {
   "cell_type": "markdown",
   "id": "a563fb10",
   "metadata": {},
   "source": [
    "# find the total weekend and weekday sale of each company of each city in each month"
   ]
  },
  {
   "cell_type": "markdown",
   "id": "c1ea38bc",
   "metadata": {},
   "source": [
    "# find the most revenue generating product of the company"
   ]
  },
  {
   "cell_type": "code",
   "execution_count": null,
   "id": "b117590e",
   "metadata": {},
   "outputs": [],
   "source": [
    "sb.countplot(x=\"Product line\",data=df,palette=\"pastel\")\n",
    "p.xticks(rotation=90);\n",
    "\n",
    "\n"
   ]
  },
  {
   "cell_type": "code",
   "execution_count": null,
   "id": "2b6a2933",
   "metadata": {},
   "outputs": [],
   "source": [
    "import pandas as pd\n",
    "import numpy as np\n",
    "import seaborn as sb\n",
    "import matplotlib.pyplot as p"
   ]
  },
  {
   "cell_type": "code",
   "execution_count": null,
   "id": "9b1f5525",
   "metadata": {},
   "outputs": [],
   "source": [
    "p.figure(figsize=(10,12))\n",
    "sb.barplot(x=\"City\",y=\"Total\",estimator=sum,data=df,palette=\"Set2\",hue=\"Product line\",ci=None)\n",
    "p.xticks(rotation=90);\n",
    "\n",
    "\n"
   ]
  },
  {
   "cell_type": "markdown",
   "id": "6e4834b2",
   "metadata": {},
   "source": [
    "# find city and month wise demand"
   ]
  },
  {
   "cell_type": "code",
   "execution_count": null,
   "id": "6c424e88",
   "metadata": {},
   "outputs": [],
   "source": [
    "# find the monthly sale of each product "
   ]
  },
  {
   "cell_type": "markdown",
   "id": "c052ac2a",
   "metadata": {},
   "source": [
    "# peak time of the customer visit at supermarket"
   ]
  },
  {
   "cell_type": "markdown",
   "id": "855f8961",
   "metadata": {},
   "source": [
    "# customer visiting time"
   ]
  },
  {
   "cell_type": "code",
   "execution_count": null,
   "id": "188794c0",
   "metadata": {},
   "outputs": [],
   "source": [
    "p.figure(figsize=(17,9))\n",
    "sb.relplot(x=\"Hour\",y=\"Total\",data=df,estimator=sum,kind=\"line\",ci=None)\n",
    "\n",
    "\n"
   ]
  },
  {
   "cell_type": "code",
   "execution_count": null,
   "id": "4af52553",
   "metadata": {},
   "outputs": [],
   "source": [
    "city_name=[\"Yangon\", 'Naypyitaw', 'Mandalay']\n",
    "pos=1\n",
    "p.figure(figsize=(14,15))\n",
    "for i in city_name:\n",
    "    #print(city)\n",
    "    p.subplot(3,1,pos)\n",
    "    sb.lineplot(x=\"Hour\",y=\"Total\",data=city,estimator=sum,ci=False)\n",
    "    p.title(f\" hourly sale trend of {city_name[pos-1]}\")\n",
    "    p.xticks(rotation=90)\n",
    "    pos=pos+1\n",
    "\n",
    "\n"
   ]
  },
  {
   "cell_type": "code",
   "execution_count": null,
   "id": "cd870d46",
   "metadata": {},
   "outputs": [],
   "source": [
    "city=['Yangon', 'Naypyitaw', 'Mandalay']\n",
    "pos=1\n",
    "p.figure(figsize=(25,15))\n",
    "for i in city:\n",
    "    p.subplot(3,1,pos)\n",
    "    sb.lineplot(x=\"hour\",y=\"Total\",data=i,estimator=sum,ci=None,hue=\"Product line\")\n",
    "    p.title(f\"peak time of branch {city[pos-1]}\")\n",
    "    p.xticks(list(range(10,21)))\n",
    "    pos=pos+1\n",
    "    \n",
    "\n",
    "\n"
   ]
  },
  {
   "cell_type": "code",
   "execution_count": null,
   "id": "2a477db0",
   "metadata": {},
   "outputs": [],
   "source": [
    "print(\"total customers : \",df[\"Gender\"].count())\n",
    "sb.countplot(x=\"Gender\",data=df)\n",
    "\n",
    "\n"
   ]
  },
  {
   "cell_type": "markdown",
   "id": "5167eaeb",
   "metadata": {},
   "source": [
    "# total male and female customers in  each city"
   ]
  },
  {
   "cell_type": "code",
   "execution_count": null,
   "id": "63da16fd",
   "metadata": {},
   "outputs": [],
   "source": [
    "sb.countplot(x=\"City\",data=df,hue=\"Gender\")\n",
    "\n"
   ]
  },
  {
   "cell_type": "markdown",
   "id": "d2f78281",
   "metadata": {},
   "source": [
    "# who contributed most in each city"
   ]
  },
  {
   "cell_type": "code",
   "execution_count": null,
   "id": "4fa3e6d3",
   "metadata": {},
   "outputs": [],
   "source": [
    "sb.barplot(x=\"City\",y=\"Total\",data=df,estimator=sum,hue=\"Gender\")\n",
    "\n"
   ]
  },
  {
   "cell_type": "markdown",
   "id": "a00f09ce",
   "metadata": {},
   "source": [
    "# which type of customer  visiting most"
   ]
  },
  {
   "cell_type": "code",
   "execution_count": 17,
   "id": "1479eabe",
   "metadata": {},
   "outputs": [
    {
     "data": {
      "text/plain": [
       "<Axes: xlabel='City', ylabel='count'>"
      ]
     },
     "execution_count": 17,
     "metadata": {},
     "output_type": "execute_result"
    },
    {
     "data": {
      "image/png": "[encoded data removed]",
      "text/plain": [
       "<Figure size 640x480 with 1 Axes>"
      ]
     },
     "metadata": {},
     "output_type": "display_data"
    }
   ],
   "source": [
    "sb.countplot(x=\"City\",data=df,hue=\"Customer type\")\n",
    "\n"
   ]
  },
  {
   "cell_type": "markdown",
   "id": "9374f7a0",
   "metadata": {},
   "source": [
    "# from which customer type generate highest business  "
   ]
  },
  {
   "cell_type": "code",
   "execution_count": null,
   "id": "c071eee9",
   "metadata": {},
   "outputs": [],
   "source": []
  },
  {
   "cell_type": "code",
   "execution_count": 18,
   "id": "a8ea234d",
   "metadata": {},
   "outputs": [
    {
     "ename": "NameError",
     "evalue": "name 'df_y' is not defined",
     "output_type": "error",
     "traceback": [
      "\u001b[1;31m---------------------------------------------------------------------------\u001b[0m",
      "\u001b[1;31mNameError\u001b[0m                                 Traceback (most recent call last)",
      "Cell \u001b[1;32mIn[18], line 3\u001b[0m\n\u001b[0;32m      1\u001b[0m p\u001b[38;5;241m.\u001b[39mfigure(figsize\u001b[38;5;241m=\u001b[39m(\u001b[38;5;241m12\u001b[39m,\u001b[38;5;241m5\u001b[39m))\n\u001b[0;32m      2\u001b[0m p\u001b[38;5;241m.\u001b[39msubplot(\u001b[38;5;241m1\u001b[39m,\u001b[38;5;241m3\u001b[39m,\u001b[38;5;241m1\u001b[39m)\n\u001b[1;32m----> 3\u001b[0m p\u001b[38;5;241m.\u001b[39mpie(df_y[\u001b[38;5;124m\"\u001b[39m\u001b[38;5;124mPayment\u001b[39m\u001b[38;5;124m\"\u001b[39m]\u001b[38;5;241m.\u001b[39mvalue_counts()\u001b[38;5;241m.\u001b[39mvalues,labels\u001b[38;5;241m=\u001b[39mdf_y[\u001b[38;5;124m\"\u001b[39m\u001b[38;5;124mPayment\u001b[39m\u001b[38;5;124m\"\u001b[39m]\u001b[38;5;241m.\u001b[39mvalue_counts()\u001b[38;5;241m.\u001b[39mindex,autopct\u001b[38;5;241m=\u001b[39m\u001b[38;5;124m\"\u001b[39m\u001b[38;5;132;01m%.2f\u001b[39;00m\u001b[38;5;132;01m%%\u001b[39;00m\u001b[38;5;124m\"\u001b[39m)\n\u001b[0;32m      4\u001b[0m p\u001b[38;5;241m.\u001b[39mtitle(\u001b[38;5;124m\"\u001b[39m\u001b[38;5;132;01m% o\u001b[39;00m\u001b[38;5;124mf customers based on \u001b[39m\u001b[38;5;130;01m\\n\u001b[39;00m\u001b[38;5;124mmode of payement of city yangon\u001b[39m\u001b[38;5;124m\"\u001b[39m)\n\u001b[0;32m      5\u001b[0m p\u001b[38;5;241m.\u001b[39msubplot(\u001b[38;5;241m1\u001b[39m,\u001b[38;5;241m3\u001b[39m,\u001b[38;5;241m2\u001b[39m)\n",
      "\u001b[1;31mNameError\u001b[0m: name 'df_y' is not defined"
     ]
    },
    {
     "data": {
      "image/png": "[encoded data removed]",
      "text/plain": [
       "<Figure size 1200x500 with 1 Axes>"
      ]
     },
     "metadata": {},
     "output_type": "display_data"
    }
   ],
   "source": [
    "p.figure(figsize=(12,5))\n",
    "p.subplot(1,3,1)\n",
    "p.pie(df_y[\"Payment\"].value_counts().values,labels=df_y[\"Payment\"].value_counts().index,autopct=\"%.2f%%\")\n",
    "p.title(\"% of customers based on \\nmode of payement of city yangon\")\n",
    "p.subplot(1,3,2)\n",
    "p.pie(df_m[\"Payment\"].value_counts().values,labels=df_m[\"Payment\"].value_counts().index,autopct=\"%.2f%%\")\n",
    "p.title(\"% of customers based on \\n mode of payement of city mandalay\")\n",
    "p.subplot(1,3,3)\n",
    "p.pie(df_n[\"Payment\"].value_counts().values,labels=df_n[\"Payment\"].value_counts().index,autopct=\"%.2f%%\")\n",
    "p.title(\"% of customers based on\\n mode of payement of city naypayitaw\");\n",
    "\n",
    "\n"
   ]
  },
  {
   "cell_type": "code",
   "execution_count": 14,
   "id": "15fbaa24",
   "metadata": {},
   "outputs": [
    {
     "name": "stdout",
     "output_type": "stream",
     "text": [
      "11 customers had given 4 rating\n"
     ]
    }
   ],
   "source": [
    "print(len(df[df[\"Rating\"]==4.0]), \"customers had given 4 rating\")\n",
    "\n",
    "\n"
   ]
  },
  {
   "cell_type": "code",
   "execution_count": 16,
   "id": "1b1cfae7",
   "metadata": {},
   "outputs": [
    {
     "name": "stdout",
     "output_type": "stream",
     "text": [
      "174 customers had given below rating\n"
     ]
    }
   ],
   "source": [
    "print(len(df[df[\"Rating\"]<=5.0]), \"customers had given below rating\")\n",
    "\n",
    "\n"
   ]
  },
  {
   "cell_type": "code",
   "execution_count": 13,
   "id": "e34da17a",
   "metadata": {},
   "outputs": [
    {
     "name": "stdout",
     "output_type": "stream",
     "text": [
      "1.1 % customers had given 10 rating\n"
     ]
    }
   ],
   "source": [
    "print((len(df[df[\"Rating\"]==4.0])*100)/df[\"Rating\"].count(),\"% customers had given 10 rating\")\n"
   ]
  },
  {
   "cell_type": "code",
   "execution_count": 15,
   "id": "ce1a6f77",
   "metadata": {},
   "outputs": [
    {
     "name": "stdout",
     "output_type": "stream",
     "text": [
      "17.4 % customers had given below 5 rating\n"
     ]
    }
   ],
   "source": [
    "print((len(df[df[\"Rating\"]<=5.0])*100)/df[\"Rating\"].count(),\"% customers had given below 5 rating\")\n"
   ]
  },
  {
   "cell_type": "code",
   "execution_count": null,
   "id": "42e4ea95",
   "metadata": {},
   "outputs": [],
   "source": []
  }
 ],
 "metadata": {
  "kernelspec": {
   "display_name": "Python 3 (ipykernel)",
   "language": "python",
   "name": "python3"
  },
  "language_info": {
   "codemirror_mode": {
    "name": "ipython",
    "version": 3
   },
   "file_extension": ".py",
   "mimetype": "text/x-python",
   "name": "python",
   "nbconvert_exporter": "python",
   "pygments_lexer": "ipython3",
   "version": "3.11.5"
  }
 },
 "nbformat": 4,
 "nbformat_minor": 5
}
